{
  "nbformat": 4,
  "nbformat_minor": 0,
  "metadata": {
    "colab": {
      "name": "EEG_dataset_preprocessing_Extract_Seizure.ipynb",
      "provenance": [],
      "include_colab_link": true
    },
    "kernelspec": {
      "name": "python3",
      "display_name": "Python 3"
    },
    "accelerator": "GPU"
  },
  "cells": [
    {
      "cell_type": "markdown",
      "metadata": {
        "id": "view-in-github",
        "colab_type": "text"
      },
      "source": [
        "<a href=\"https://colab.research.google.com/github/moustafa-7/EEG_Seizure_prediction/blob/master/EEG_dataset_preprocessing_Extract_Seizure.ipynb\" target=\"_parent\"><img src=\"https://colab.research.google.com/assets/colab-badge.svg\" alt=\"Open In Colab\"/></a>"
      ]
    },
    {
      "cell_type": "code",
      "metadata": {
        "id": "LVZJWJDTaNNp",
        "colab_type": "code",
        "colab": {
          "base_uri": "https://localhost:8080/",
          "height": 224
        },
        "outputId": "dfa18628-f3c9-4f69-e4c1-3d5cdcb69125"
      },
      "source": [
        "!pip install pyedflib"
      ],
      "execution_count": 62,
      "outputs": [
        {
          "output_type": "stream",
          "text": [
            "Collecting pyedflib\n",
            "\u001b[?25l  Downloading https://files.pythonhosted.org/packages/a4/c1/11d90aa4d20a1d3df04ea9e1db4e03fea4b199a5b515a057cbe5e35769c0/pyEDFlib-0.1.14.tar.gz (1.1MB)\n",
            "\u001b[K     |████████████████████████████████| 1.1MB 9.7MB/s \n",
            "\u001b[?25hRequirement already satisfied: numpy>=1.9.1 in /usr/local/lib/python3.6/dist-packages (from pyedflib) (1.16.5)\n",
            "Building wheels for collected packages: pyedflib\n",
            "  Building wheel for pyedflib (setup.py) ... \u001b[?25l\u001b[?25hdone\n",
            "  Created wheel for pyedflib: filename=pyEDFlib-0.1.14-cp36-cp36m-linux_x86_64.whl size=920342 sha256=93573b7ce6a771e699811519b837c5fa09655993561238be256e76ca942f4f14\n",
            "  Stored in directory: /root/.cache/pip/wheels/6a/62/a0/3d06c48411a5f8e18a7d7376243b81520af87cbd6f24d21cfd\n",
            "Successfully built pyedflib\n",
            "Installing collected packages: pyedflib\n",
            "Successfully installed pyedflib-0.1.14\n"
          ],
          "name": "stdout"
        }
      ]
    },
    {
      "cell_type": "code",
      "metadata": {
        "id": "PTon7k70LTae",
        "colab_type": "code",
        "outputId": "1832224b-edbe-4873-ee7b-b4cdb644b77b",
        "colab": {
          "base_uri": "https://localhost:8080/",
          "height": 54
        }
      },
      "source": [
        "from google.colab import drive\n",
        "import pyedflib\n",
        "\n",
        "drive.mount('/content/drive')"
      ],
      "execution_count": 63,
      "outputs": [
        {
          "output_type": "stream",
          "text": [
            "Drive already mounted at /content/drive; to attempt to forcibly remount, call drive.mount(\"/content/drive\", force_remount=True).\n"
          ],
          "name": "stdout"
        }
      ]
    },
    {
      "cell_type": "code",
      "metadata": {
        "id": "ClZgSWTmNdAU",
        "colab_type": "code",
        "colab": {}
      },
      "source": [
        "import pandas as pd\n",
        "df = pd.read_csv(\"/content/seizures_info - Sheet1.csv\")"
      ],
      "execution_count": 0,
      "outputs": []
    },
    {
      "cell_type": "code",
      "metadata": {
        "id": "5eVeHI-wNpdF",
        "colab_type": "code",
        "colab": {}
      },
      "source": [
        "df = df.iloc[:,0:4]"
      ],
      "execution_count": 0,
      "outputs": []
    },
    {
      "cell_type": "code",
      "metadata": {
        "id": "Mx22s9WnNp83",
        "colab_type": "code",
        "outputId": "9768a12f-5ac7-40b9-99a4-fe183bf9fdd2",
        "colab": {
          "base_uri": "https://localhost:8080/",
          "height": 1000
        }
      },
      "source": [
        "df"
      ],
      "execution_count": 52,
      "outputs": [
        {
          "output_type": "execute_result",
          "data": {
            "text/html": [
              "<div>\n",
              "<style scoped>\n",
              "    .dataframe tbody tr th:only-of-type {\n",
              "        vertical-align: middle;\n",
              "    }\n",
              "\n",
              "    .dataframe tbody tr th {\n",
              "        vertical-align: top;\n",
              "    }\n",
              "\n",
              "    .dataframe thead th {\n",
              "        text-align: right;\n",
              "    }\n",
              "</style>\n",
              "<table border=\"1\" class=\"dataframe\">\n",
              "  <thead>\n",
              "    <tr style=\"text-align: right;\">\n",
              "      <th></th>\n",
              "      <th>Patient no.</th>\n",
              "      <th>Seizure number</th>\n",
              "      <th>started at</th>\n",
              "      <th>ended at</th>\n",
              "    </tr>\n",
              "  </thead>\n",
              "  <tbody>\n",
              "    <tr>\n",
              "      <th>0</th>\n",
              "      <td>chb01_03</td>\n",
              "      <td>1.0</td>\n",
              "      <td>2996</td>\n",
              "      <td>3036</td>\n",
              "    </tr>\n",
              "    <tr>\n",
              "      <th>1</th>\n",
              "      <td>chb01_04</td>\n",
              "      <td>1.0</td>\n",
              "      <td>1467</td>\n",
              "      <td>1494</td>\n",
              "    </tr>\n",
              "    <tr>\n",
              "      <th>2</th>\n",
              "      <td>chb01_15</td>\n",
              "      <td>1.0</td>\n",
              "      <td>1732</td>\n",
              "      <td>1772</td>\n",
              "    </tr>\n",
              "    <tr>\n",
              "      <th>3</th>\n",
              "      <td>chb01_16</td>\n",
              "      <td>1.0</td>\n",
              "      <td>1015</td>\n",
              "      <td>1066</td>\n",
              "    </tr>\n",
              "    <tr>\n",
              "      <th>4</th>\n",
              "      <td>chb01_18</td>\n",
              "      <td>1.0</td>\n",
              "      <td>1720</td>\n",
              "      <td>1810</td>\n",
              "    </tr>\n",
              "    <tr>\n",
              "      <th>5</th>\n",
              "      <td>chb01_21</td>\n",
              "      <td>1.0</td>\n",
              "      <td>327</td>\n",
              "      <td>420</td>\n",
              "    </tr>\n",
              "    <tr>\n",
              "      <th>6</th>\n",
              "      <td>chb01_26</td>\n",
              "      <td>1.0</td>\n",
              "      <td>1862</td>\n",
              "      <td>1963</td>\n",
              "    </tr>\n",
              "    <tr>\n",
              "      <th>7</th>\n",
              "      <td>chb02_16</td>\n",
              "      <td>1.0</td>\n",
              "      <td>130</td>\n",
              "      <td>212</td>\n",
              "    </tr>\n",
              "    <tr>\n",
              "      <th>8</th>\n",
              "      <td>chb02_16</td>\n",
              "      <td>1.0</td>\n",
              "      <td>2972</td>\n",
              "      <td>3053</td>\n",
              "    </tr>\n",
              "    <tr>\n",
              "      <th>9</th>\n",
              "      <td>chb02_19</td>\n",
              "      <td>1.0</td>\n",
              "      <td>3369</td>\n",
              "      <td>3378</td>\n",
              "    </tr>\n",
              "    <tr>\n",
              "      <th>10</th>\n",
              "      <td>chb03_01</td>\n",
              "      <td>1.0</td>\n",
              "      <td>362</td>\n",
              "      <td>414</td>\n",
              "    </tr>\n",
              "    <tr>\n",
              "      <th>11</th>\n",
              "      <td>chb03_02</td>\n",
              "      <td>1.0</td>\n",
              "      <td>731</td>\n",
              "      <td>796</td>\n",
              "    </tr>\n",
              "    <tr>\n",
              "      <th>12</th>\n",
              "      <td>chb03_03</td>\n",
              "      <td>1.0</td>\n",
              "      <td>432</td>\n",
              "      <td>501</td>\n",
              "    </tr>\n",
              "    <tr>\n",
              "      <th>13</th>\n",
              "      <td>chb03_04</td>\n",
              "      <td>1.0</td>\n",
              "      <td>2162</td>\n",
              "      <td>2214</td>\n",
              "    </tr>\n",
              "    <tr>\n",
              "      <th>14</th>\n",
              "      <td>chb03_34</td>\n",
              "      <td>1.0</td>\n",
              "      <td>1982</td>\n",
              "      <td>2029</td>\n",
              "    </tr>\n",
              "    <tr>\n",
              "      <th>15</th>\n",
              "      <td>chb03_35</td>\n",
              "      <td>1.0</td>\n",
              "      <td>2592</td>\n",
              "      <td>2656</td>\n",
              "    </tr>\n",
              "    <tr>\n",
              "      <th>16</th>\n",
              "      <td>chb03_36</td>\n",
              "      <td>1.0</td>\n",
              "      <td>1725</td>\n",
              "      <td>1778</td>\n",
              "    </tr>\n",
              "    <tr>\n",
              "      <th>17</th>\n",
              "      <td>chb04_05</td>\n",
              "      <td>1.0</td>\n",
              "      <td>7804</td>\n",
              "      <td>7853</td>\n",
              "    </tr>\n",
              "    <tr>\n",
              "      <th>18</th>\n",
              "      <td>chb04_08</td>\n",
              "      <td>1.0</td>\n",
              "      <td>6446</td>\n",
              "      <td>6557</td>\n",
              "    </tr>\n",
              "    <tr>\n",
              "      <th>19</th>\n",
              "      <td>chb04_28</td>\n",
              "      <td>2.0</td>\n",
              "      <td>1679</td>\n",
              "      <td>1781</td>\n",
              "    </tr>\n",
              "    <tr>\n",
              "      <th>20</th>\n",
              "      <td>chb04_28</td>\n",
              "      <td>NaN</td>\n",
              "      <td>3782</td>\n",
              "      <td>3898</td>\n",
              "    </tr>\n",
              "    <tr>\n",
              "      <th>21</th>\n",
              "      <td>chb05_06</td>\n",
              "      <td>1.0</td>\n",
              "      <td>417</td>\n",
              "      <td>532</td>\n",
              "    </tr>\n",
              "    <tr>\n",
              "      <th>22</th>\n",
              "      <td>chb05_13</td>\n",
              "      <td>1.0</td>\n",
              "      <td>1086</td>\n",
              "      <td>1196</td>\n",
              "    </tr>\n",
              "    <tr>\n",
              "      <th>23</th>\n",
              "      <td>chb05_16</td>\n",
              "      <td>1.0</td>\n",
              "      <td>2317</td>\n",
              "      <td>2413</td>\n",
              "    </tr>\n",
              "    <tr>\n",
              "      <th>24</th>\n",
              "      <td>chb05_17</td>\n",
              "      <td>1.0</td>\n",
              "      <td>2451</td>\n",
              "      <td>2571</td>\n",
              "    </tr>\n",
              "    <tr>\n",
              "      <th>25</th>\n",
              "      <td>chb05_22</td>\n",
              "      <td>1.0</td>\n",
              "      <td>2348</td>\n",
              "      <td>2465</td>\n",
              "    </tr>\n",
              "    <tr>\n",
              "      <th>26</th>\n",
              "      <td>chb06_01</td>\n",
              "      <td>3.0</td>\n",
              "      <td>1724</td>\n",
              "      <td>1738</td>\n",
              "    </tr>\n",
              "    <tr>\n",
              "      <th>27</th>\n",
              "      <td>chb06_01</td>\n",
              "      <td>NaN</td>\n",
              "      <td>7461</td>\n",
              "      <td>7476</td>\n",
              "    </tr>\n",
              "    <tr>\n",
              "      <th>28</th>\n",
              "      <td>chb06_01</td>\n",
              "      <td>NaN</td>\n",
              "      <td>13525</td>\n",
              "      <td>13540</td>\n",
              "    </tr>\n",
              "    <tr>\n",
              "      <th>29</th>\n",
              "      <td>chb06_04</td>\n",
              "      <td>2.0</td>\n",
              "      <td>327</td>\n",
              "      <td>347</td>\n",
              "    </tr>\n",
              "    <tr>\n",
              "      <th>...</th>\n",
              "      <td>...</td>\n",
              "      <td>...</td>\n",
              "      <td>...</td>\n",
              "      <td>...</td>\n",
              "    </tr>\n",
              "    <tr>\n",
              "      <th>168</th>\n",
              "      <td>chb21_19</td>\n",
              "      <td>1.0</td>\n",
              "      <td>1288</td>\n",
              "      <td>1344</td>\n",
              "    </tr>\n",
              "    <tr>\n",
              "      <th>169</th>\n",
              "      <td>chb21_20</td>\n",
              "      <td>1.0</td>\n",
              "      <td>2627</td>\n",
              "      <td>2677</td>\n",
              "    </tr>\n",
              "    <tr>\n",
              "      <th>170</th>\n",
              "      <td>chb21_21</td>\n",
              "      <td>1.0</td>\n",
              "      <td>2003</td>\n",
              "      <td>2084</td>\n",
              "    </tr>\n",
              "    <tr>\n",
              "      <th>171</th>\n",
              "      <td>chb21_22</td>\n",
              "      <td>1.0</td>\n",
              "      <td>2553</td>\n",
              "      <td>2565</td>\n",
              "    </tr>\n",
              "    <tr>\n",
              "      <th>172</th>\n",
              "      <td>chb22_20</td>\n",
              "      <td>1.0</td>\n",
              "      <td>3367</td>\n",
              "      <td>3425</td>\n",
              "    </tr>\n",
              "    <tr>\n",
              "      <th>173</th>\n",
              "      <td>chb22_25</td>\n",
              "      <td>1.0</td>\n",
              "      <td>3139</td>\n",
              "      <td>3213</td>\n",
              "    </tr>\n",
              "    <tr>\n",
              "      <th>174</th>\n",
              "      <td>chb22_38</td>\n",
              "      <td>1.0</td>\n",
              "      <td>1263</td>\n",
              "      <td>1335</td>\n",
              "    </tr>\n",
              "    <tr>\n",
              "      <th>175</th>\n",
              "      <td>chb23_06</td>\n",
              "      <td>1.0</td>\n",
              "      <td>3962</td>\n",
              "      <td>4075</td>\n",
              "    </tr>\n",
              "    <tr>\n",
              "      <th>176</th>\n",
              "      <td>chb23_08</td>\n",
              "      <td>2.0</td>\n",
              "      <td>325</td>\n",
              "      <td>345</td>\n",
              "    </tr>\n",
              "    <tr>\n",
              "      <th>177</th>\n",
              "      <td>chb23_08</td>\n",
              "      <td>NaN</td>\n",
              "      <td>5104</td>\n",
              "      <td>5151</td>\n",
              "    </tr>\n",
              "    <tr>\n",
              "      <th>178</th>\n",
              "      <td>chb23_09</td>\n",
              "      <td>4.0</td>\n",
              "      <td>2589</td>\n",
              "      <td>2660</td>\n",
              "    </tr>\n",
              "    <tr>\n",
              "      <th>179</th>\n",
              "      <td>chb23_09</td>\n",
              "      <td>NaN</td>\n",
              "      <td>6885</td>\n",
              "      <td>6947</td>\n",
              "    </tr>\n",
              "    <tr>\n",
              "      <th>180</th>\n",
              "      <td>chb23_09</td>\n",
              "      <td>NaN</td>\n",
              "      <td>8505</td>\n",
              "      <td>8532</td>\n",
              "    </tr>\n",
              "    <tr>\n",
              "      <th>181</th>\n",
              "      <td>chb23_09</td>\n",
              "      <td>NaN</td>\n",
              "      <td>9580</td>\n",
              "      <td>9664</td>\n",
              "    </tr>\n",
              "    <tr>\n",
              "      <th>182</th>\n",
              "      <td>chb24_01</td>\n",
              "      <td>2.0</td>\n",
              "      <td>480</td>\n",
              "      <td>505</td>\n",
              "    </tr>\n",
              "    <tr>\n",
              "      <th>183</th>\n",
              "      <td>chb24_01</td>\n",
              "      <td>NaN</td>\n",
              "      <td>2451</td>\n",
              "      <td>2476</td>\n",
              "    </tr>\n",
              "    <tr>\n",
              "      <th>184</th>\n",
              "      <td>chb24_03</td>\n",
              "      <td>2.0</td>\n",
              "      <td>231</td>\n",
              "      <td>260</td>\n",
              "    </tr>\n",
              "    <tr>\n",
              "      <th>185</th>\n",
              "      <td>chb23_03</td>\n",
              "      <td>NaN</td>\n",
              "      <td>2883</td>\n",
              "      <td>2908</td>\n",
              "    </tr>\n",
              "    <tr>\n",
              "      <th>186</th>\n",
              "      <td>chb24_04</td>\n",
              "      <td>3.0</td>\n",
              "      <td>1088</td>\n",
              "      <td>1120</td>\n",
              "    </tr>\n",
              "    <tr>\n",
              "      <th>187</th>\n",
              "      <td>chb24_04</td>\n",
              "      <td>NaN</td>\n",
              "      <td>1411</td>\n",
              "      <td>1438</td>\n",
              "    </tr>\n",
              "    <tr>\n",
              "      <th>188</th>\n",
              "      <td>chb24_04</td>\n",
              "      <td>NaN</td>\n",
              "      <td>1745</td>\n",
              "      <td>1764</td>\n",
              "    </tr>\n",
              "    <tr>\n",
              "      <th>189</th>\n",
              "      <td>chb24_06</td>\n",
              "      <td>1.0</td>\n",
              "      <td>1229</td>\n",
              "      <td>1253</td>\n",
              "    </tr>\n",
              "    <tr>\n",
              "      <th>190</th>\n",
              "      <td>chb24_07</td>\n",
              "      <td>1.0</td>\n",
              "      <td>38</td>\n",
              "      <td>60</td>\n",
              "    </tr>\n",
              "    <tr>\n",
              "      <th>191</th>\n",
              "      <td>chb24_09</td>\n",
              "      <td>1.0</td>\n",
              "      <td>1745</td>\n",
              "      <td>1764</td>\n",
              "    </tr>\n",
              "    <tr>\n",
              "      <th>192</th>\n",
              "      <td>chb24_11</td>\n",
              "      <td>1.0</td>\n",
              "      <td>3527</td>\n",
              "      <td>3597</td>\n",
              "    </tr>\n",
              "    <tr>\n",
              "      <th>193</th>\n",
              "      <td>chb24_13</td>\n",
              "      <td>1.0</td>\n",
              "      <td>3288</td>\n",
              "      <td>3304</td>\n",
              "    </tr>\n",
              "    <tr>\n",
              "      <th>194</th>\n",
              "      <td>chb24_14</td>\n",
              "      <td>1.0</td>\n",
              "      <td>1939</td>\n",
              "      <td>1966</td>\n",
              "    </tr>\n",
              "    <tr>\n",
              "      <th>195</th>\n",
              "      <td>chb24_15</td>\n",
              "      <td>1.0</td>\n",
              "      <td>3552</td>\n",
              "      <td>3569</td>\n",
              "    </tr>\n",
              "    <tr>\n",
              "      <th>196</th>\n",
              "      <td>chb24_17</td>\n",
              "      <td>1.0</td>\n",
              "      <td>3515</td>\n",
              "      <td>3581</td>\n",
              "    </tr>\n",
              "    <tr>\n",
              "      <th>197</th>\n",
              "      <td>chb24_21</td>\n",
              "      <td>1.0</td>\n",
              "      <td>2804</td>\n",
              "      <td>2872</td>\n",
              "    </tr>\n",
              "  </tbody>\n",
              "</table>\n",
              "<p>198 rows × 4 columns</p>\n",
              "</div>"
            ],
            "text/plain": [
              "    Patient no.  Seizure number  started at  ended at\n",
              "0      chb01_03             1.0        2996      3036\n",
              "1      chb01_04             1.0        1467      1494\n",
              "2      chb01_15             1.0        1732      1772\n",
              "3      chb01_16             1.0        1015      1066\n",
              "4      chb01_18             1.0        1720      1810\n",
              "5      chb01_21             1.0         327       420\n",
              "6      chb01_26             1.0        1862      1963\n",
              "7      chb02_16             1.0         130       212\n",
              "8      chb02_16             1.0        2972      3053\n",
              "9      chb02_19             1.0        3369      3378\n",
              "10     chb03_01             1.0         362       414\n",
              "11     chb03_02             1.0         731       796\n",
              "12     chb03_03             1.0         432       501\n",
              "13     chb03_04             1.0        2162      2214\n",
              "14     chb03_34             1.0        1982      2029\n",
              "15     chb03_35             1.0        2592      2656\n",
              "16     chb03_36             1.0        1725      1778\n",
              "17     chb04_05             1.0        7804      7853\n",
              "18     chb04_08             1.0        6446      6557\n",
              "19     chb04_28             2.0        1679      1781\n",
              "20     chb04_28             NaN        3782      3898\n",
              "21     chb05_06             1.0         417       532\n",
              "22     chb05_13             1.0        1086      1196\n",
              "23     chb05_16             1.0        2317      2413\n",
              "24     chb05_17             1.0        2451      2571\n",
              "25     chb05_22             1.0        2348      2465\n",
              "26     chb06_01             3.0        1724      1738\n",
              "27     chb06_01             NaN        7461      7476\n",
              "28     chb06_01             NaN       13525     13540\n",
              "29     chb06_04             2.0         327       347\n",
              "..          ...             ...         ...       ...\n",
              "168    chb21_19             1.0        1288      1344\n",
              "169    chb21_20             1.0        2627      2677\n",
              "170    chb21_21             1.0        2003      2084\n",
              "171    chb21_22             1.0        2553      2565\n",
              "172    chb22_20             1.0        3367      3425\n",
              "173    chb22_25             1.0        3139      3213\n",
              "174    chb22_38             1.0        1263      1335\n",
              "175    chb23_06             1.0        3962      4075\n",
              "176    chb23_08             2.0         325       345\n",
              "177    chb23_08             NaN        5104      5151\n",
              "178    chb23_09             4.0        2589      2660\n",
              "179    chb23_09             NaN        6885      6947\n",
              "180    chb23_09             NaN        8505      8532\n",
              "181    chb23_09             NaN        9580      9664\n",
              "182    chb24_01             2.0         480       505\n",
              "183    chb24_01             NaN        2451      2476\n",
              "184    chb24_03             2.0         231       260\n",
              "185    chb23_03             NaN        2883      2908\n",
              "186    chb24_04             3.0        1088      1120\n",
              "187    chb24_04             NaN        1411      1438\n",
              "188    chb24_04             NaN        1745      1764\n",
              "189    chb24_06             1.0        1229      1253\n",
              "190    chb24_07             1.0          38        60\n",
              "191    chb24_09             1.0        1745      1764\n",
              "192    chb24_11             1.0        3527      3597\n",
              "193    chb24_13             1.0        3288      3304\n",
              "194    chb24_14             1.0        1939      1966\n",
              "195    chb24_15             1.0        3552      3569\n",
              "196    chb24_17             1.0        3515      3581\n",
              "197    chb24_21             1.0        2804      2872\n",
              "\n",
              "[198 rows x 4 columns]"
            ]
          },
          "metadata": {
            "tags": []
          },
          "execution_count": 52
        }
      ]
    },
    {
      "cell_type": "code",
      "metadata": {
        "id": "kSu10X30N1P5",
        "colab_type": "code",
        "colab": {}
      },
      "source": [
        "base_path = \"drive/My Drive/chb-mit-scalp-eeg-database-1.0.0/\""
      ],
      "execution_count": 0,
      "outputs": []
    },
    {
      "cell_type": "code",
      "metadata": {
        "id": "j9c9YUVwO_3y",
        "colab_type": "code",
        "colab": {}
      },
      "source": [
        "files = list(df.iloc[:,0])\n",
        "start_time = list(df.iloc[:,2])\n",
        "end_time = list(df.iloc[:,3])\n",
        "\n",
        "folders = []\n",
        "\n",
        "for i in range(len(files)):\n",
        "  folders.append(files[i][:-3])"
      ],
      "execution_count": 0,
      "outputs": []
    },
    {
      "cell_type": "code",
      "metadata": {
        "id": "5njH0nxcPZ2-",
        "colab_type": "code",
        "colab": {}
      },
      "source": [
        ""
      ],
      "execution_count": 0,
      "outputs": []
    },
    {
      "cell_type": "code",
      "metadata": {
        "id": "3gZVIybgQzqs",
        "colab_type": "code",
        "outputId": "9dc9653e-0d42-4371-bb53-88f51bbfc835",
        "colab": {
          "base_uri": "https://localhost:8080/",
          "height": 1000
        }
      },
      "source": [
        "folders"
      ],
      "execution_count": 95,
      "outputs": [
        {
          "output_type": "execute_result",
          "data": {
            "text/plain": [
              "['chb01',\n",
              " 'chb01',\n",
              " 'chb01',\n",
              " 'chb01',\n",
              " 'chb01',\n",
              " 'chb01',\n",
              " 'chb01',\n",
              " 'chb02',\n",
              " 'chb02',\n",
              " 'chb02',\n",
              " 'chb03',\n",
              " 'chb03',\n",
              " 'chb03',\n",
              " 'chb03',\n",
              " 'chb03',\n",
              " 'chb03',\n",
              " 'chb03',\n",
              " 'chb04',\n",
              " 'chb04',\n",
              " 'chb04',\n",
              " 'chb04',\n",
              " 'chb05',\n",
              " 'chb05',\n",
              " 'chb05',\n",
              " 'chb05',\n",
              " 'chb05',\n",
              " 'chb06',\n",
              " 'chb06',\n",
              " 'chb06',\n",
              " 'chb06',\n",
              " 'chb06',\n",
              " 'chb06',\n",
              " 'chb06',\n",
              " 'chb06',\n",
              " 'chb06',\n",
              " 'chb06',\n",
              " 'chb07',\n",
              " 'chb07',\n",
              " 'chb07',\n",
              " 'chb08',\n",
              " 'chb08',\n",
              " 'chb08',\n",
              " 'chb08',\n",
              " 'chb08',\n",
              " 'chb09',\n",
              " 'chb09',\n",
              " 'chb09',\n",
              " 'chb09',\n",
              " 'chb10',\n",
              " 'chb10',\n",
              " 'chb10',\n",
              " 'chb10',\n",
              " 'chb10',\n",
              " 'chb10',\n",
              " 'chb10',\n",
              " 'chb11',\n",
              " 'chb11',\n",
              " 'chb11',\n",
              " 'chb12',\n",
              " 'chb12',\n",
              " 'chb12',\n",
              " 'chb12',\n",
              " 'chb12',\n",
              " 'chb12',\n",
              " 'chb12',\n",
              " 'chb12',\n",
              " 'chb12',\n",
              " 'chb12',\n",
              " 'chb12',\n",
              " 'chb12',\n",
              " 'chb12',\n",
              " 'chb12',\n",
              " 'chb12',\n",
              " 'chb12',\n",
              " 'chb12',\n",
              " 'chb12',\n",
              " 'chb12',\n",
              " 'chb12',\n",
              " 'chb12',\n",
              " 'chb12',\n",
              " 'chb12',\n",
              " 'chb12',\n",
              " 'chb12',\n",
              " 'chb12',\n",
              " 'chb12',\n",
              " 'chb12',\n",
              " 'chb12',\n",
              " 'chb12',\n",
              " 'chb12',\n",
              " 'chb12',\n",
              " 'chb12',\n",
              " 'chb12',\n",
              " 'chb12',\n",
              " 'chb12',\n",
              " 'chb12',\n",
              " 'chb12',\n",
              " 'chb12',\n",
              " 'chb12',\n",
              " 'chb13',\n",
              " 'chb13',\n",
              " 'chb13',\n",
              " 'chb13',\n",
              " 'chb13',\n",
              " 'chb13',\n",
              " 'chb13',\n",
              " 'chb13',\n",
              " 'chb13',\n",
              " 'chb13',\n",
              " 'chb13',\n",
              " 'chb13',\n",
              " 'chb14',\n",
              " 'chb14',\n",
              " 'chb14',\n",
              " 'chb14',\n",
              " 'chb14',\n",
              " 'chb14',\n",
              " 'chb14',\n",
              " 'chb14',\n",
              " 'chb15',\n",
              " 'chb15',\n",
              " 'chb15',\n",
              " 'chb15',\n",
              " 'chb15',\n",
              " 'chb15',\n",
              " 'chb15',\n",
              " 'chb15',\n",
              " 'chb15',\n",
              " 'chb15',\n",
              " 'chb15',\n",
              " 'chb15',\n",
              " 'chb15',\n",
              " 'chb15',\n",
              " 'chb15',\n",
              " 'chb15',\n",
              " 'chb15',\n",
              " 'chb15',\n",
              " 'chb15',\n",
              " 'chb15',\n",
              " 'chb16',\n",
              " 'chb16',\n",
              " 'chb16',\n",
              " 'chb16',\n",
              " 'chb16',\n",
              " 'chb16',\n",
              " 'chb16',\n",
              " 'chb16',\n",
              " 'chb16',\n",
              " 'chb16',\n",
              " 'chb17',\n",
              " 'chb17',\n",
              " 'chb17',\n",
              " 'chb18',\n",
              " 'chb18',\n",
              " 'chb18',\n",
              " 'chb18',\n",
              " 'chb18',\n",
              " 'chb18',\n",
              " 'chb19',\n",
              " 'chb19',\n",
              " 'chb19',\n",
              " 'chb20',\n",
              " 'chb20',\n",
              " 'chb20',\n",
              " 'chb20',\n",
              " 'chb20',\n",
              " 'chb20',\n",
              " 'chb20',\n",
              " 'chb20',\n",
              " 'chb21',\n",
              " 'chb21',\n",
              " 'chb21',\n",
              " 'chb21',\n",
              " 'chb22',\n",
              " 'chb22',\n",
              " 'chb22',\n",
              " 'chb23',\n",
              " 'chb23',\n",
              " 'chb23',\n",
              " 'chb23',\n",
              " 'chb23',\n",
              " 'chb23',\n",
              " 'chb23',\n",
              " 'chb24',\n",
              " 'chb24',\n",
              " 'chb24',\n",
              " 'chb23',\n",
              " 'chb24',\n",
              " 'chb24',\n",
              " 'chb24',\n",
              " 'chb24',\n",
              " 'chb24',\n",
              " 'chb24',\n",
              " 'chb24',\n",
              " 'chb24',\n",
              " 'chb24',\n",
              " 'chb24',\n",
              " 'chb24',\n",
              " 'chb24']"
            ]
          },
          "metadata": {
            "tags": []
          },
          "execution_count": 95
        }
      ]
    },
    {
      "cell_type": "code",
      "metadata": {
        "id": "Z7cW5ZfyTDAW",
        "colab_type": "code",
        "colab": {
          "base_uri": "https://localhost:8080/",
          "height": 367
        },
        "outputId": "876f8192-69b1-4ae3-d0ef-84e70d5477a1"
      },
      "source": [
        "import glob\n",
        "import numpy as np\n",
        "\n",
        "data = []\n",
        "\n",
        "\n",
        "\n",
        "# filling this numpy array with the signals of the edf file\n",
        "for i in range(len(folders)):\n",
        "  f = 0\n",
        "  \n",
        "  f = pyedflib.EdfReader(base_path + folders[i] + '/' +files[i] + \".edf\")\n",
        "\n",
        "  # This gives you how many signals in this edf file in this case there are 23 signals\n",
        "  n = f.signals_in_file\n",
        "\n",
        "  # this gives you the label of each signal like this ('FP1-F7', 'F7-T7', 'T7-P7', and so on)\n",
        "  signal_labels = f.getSignalLabels()\n",
        "  \n",
        "  # this is just saying I want a numpy of the same shape of our signal that I will fill with our signal's values\n",
        "  sigbufs = np.zeros((5, end_time[i]*256 - start_time[i]*256))\n",
        "  \n",
        "  sigbufs[0, :] = f.readSignal(7)[start_time[i]*256: end_time[i]*256] \n",
        "  sigbufs[1, :] = f.readSignal(9)[start_time[i]*256: end_time[i]*256]\n",
        "  sigbufs[2, :] = f.readSignal(12)[start_time[i]*256: end_time[i]*256]\n",
        "  sigbufs[3, :] = f.readSignal(15)[start_time[i]*256: end_time[i]*256]\n",
        "  sigbufs[4, :] = f.readSignal(20)[start_time[i]*256: end_time[i]*256]\n",
        "  \n",
        "  data.append(sigbufs)\n",
        "  \n",
        "  print(i)"
      ],
      "execution_count": 96,
      "outputs": [
        {
          "output_type": "stream",
          "text": [
            "0\n",
            "1\n",
            "2\n",
            "3\n",
            "4\n",
            "5\n",
            "6\n",
            "7\n"
          ],
          "name": "stdout"
        },
        {
          "output_type": "error",
          "ename": "ValueError",
          "evalue": "ignored",
          "traceback": [
            "\u001b[0;31m---------------------------------------------------------------------------\u001b[0m",
            "\u001b[0;31mValueError\u001b[0m                                Traceback (most recent call last)",
            "\u001b[0;32m<ipython-input-96-3a7d4875b53c>\u001b[0m in \u001b[0;36m<module>\u001b[0;34m()\u001b[0m\n\u001b[1;32m     21\u001b[0m   \u001b[0msigbufs\u001b[0m \u001b[0;34m=\u001b[0m \u001b[0mnp\u001b[0m\u001b[0;34m.\u001b[0m\u001b[0mzeros\u001b[0m\u001b[0;34m(\u001b[0m\u001b[0;34m(\u001b[0m\u001b[0;36m5\u001b[0m\u001b[0;34m,\u001b[0m \u001b[0mend_time\u001b[0m\u001b[0;34m[\u001b[0m\u001b[0mi\u001b[0m\u001b[0;34m]\u001b[0m\u001b[0;34m*\u001b[0m\u001b[0;36m256\u001b[0m \u001b[0;34m-\u001b[0m \u001b[0mstart_time\u001b[0m\u001b[0;34m[\u001b[0m\u001b[0mi\u001b[0m\u001b[0;34m]\u001b[0m\u001b[0;34m*\u001b[0m\u001b[0;36m256\u001b[0m\u001b[0;34m)\u001b[0m\u001b[0;34m)\u001b[0m\u001b[0;34m\u001b[0m\u001b[0;34m\u001b[0m\u001b[0m\n\u001b[1;32m     22\u001b[0m \u001b[0;34m\u001b[0m\u001b[0m\n\u001b[0;32m---> 23\u001b[0;31m   \u001b[0msigbufs\u001b[0m\u001b[0;34m[\u001b[0m\u001b[0;36m0\u001b[0m\u001b[0;34m,\u001b[0m \u001b[0;34m:\u001b[0m\u001b[0;34m]\u001b[0m \u001b[0;34m=\u001b[0m \u001b[0mf\u001b[0m\u001b[0;34m.\u001b[0m\u001b[0mreadSignal\u001b[0m\u001b[0;34m(\u001b[0m\u001b[0;36m7\u001b[0m\u001b[0;34m)\u001b[0m\u001b[0;34m[\u001b[0m\u001b[0mstart_time\u001b[0m\u001b[0;34m[\u001b[0m\u001b[0mi\u001b[0m\u001b[0;34m]\u001b[0m\u001b[0;34m*\u001b[0m\u001b[0;36m256\u001b[0m\u001b[0;34m:\u001b[0m \u001b[0mend_time\u001b[0m\u001b[0;34m[\u001b[0m\u001b[0mi\u001b[0m\u001b[0;34m]\u001b[0m\u001b[0;34m*\u001b[0m\u001b[0;36m256\u001b[0m\u001b[0;34m]\u001b[0m\u001b[0;34m\u001b[0m\u001b[0;34m\u001b[0m\u001b[0m\n\u001b[0m\u001b[1;32m     24\u001b[0m   \u001b[0msigbufs\u001b[0m\u001b[0;34m[\u001b[0m\u001b[0;36m1\u001b[0m\u001b[0;34m,\u001b[0m \u001b[0;34m:\u001b[0m\u001b[0;34m]\u001b[0m \u001b[0;34m=\u001b[0m \u001b[0mf\u001b[0m\u001b[0;34m.\u001b[0m\u001b[0mreadSignal\u001b[0m\u001b[0;34m(\u001b[0m\u001b[0;36m9\u001b[0m\u001b[0;34m)\u001b[0m\u001b[0;34m[\u001b[0m\u001b[0mstart_time\u001b[0m\u001b[0;34m[\u001b[0m\u001b[0mi\u001b[0m\u001b[0;34m]\u001b[0m\u001b[0;34m*\u001b[0m\u001b[0;36m256\u001b[0m\u001b[0;34m:\u001b[0m \u001b[0mend_time\u001b[0m\u001b[0;34m[\u001b[0m\u001b[0mi\u001b[0m\u001b[0;34m]\u001b[0m\u001b[0;34m*\u001b[0m\u001b[0;36m256\u001b[0m\u001b[0;34m]\u001b[0m\u001b[0;34m\u001b[0m\u001b[0;34m\u001b[0m\u001b[0m\n\u001b[1;32m     25\u001b[0m   \u001b[0msigbufs\u001b[0m\u001b[0;34m[\u001b[0m\u001b[0;36m2\u001b[0m\u001b[0;34m,\u001b[0m \u001b[0;34m:\u001b[0m\u001b[0;34m]\u001b[0m \u001b[0;34m=\u001b[0m \u001b[0mf\u001b[0m\u001b[0;34m.\u001b[0m\u001b[0mreadSignal\u001b[0m\u001b[0;34m(\u001b[0m\u001b[0;36m12\u001b[0m\u001b[0;34m)\u001b[0m\u001b[0;34m[\u001b[0m\u001b[0mstart_time\u001b[0m\u001b[0;34m[\u001b[0m\u001b[0mi\u001b[0m\u001b[0;34m]\u001b[0m\u001b[0;34m*\u001b[0m\u001b[0;36m256\u001b[0m\u001b[0;34m:\u001b[0m \u001b[0mend_time\u001b[0m\u001b[0;34m[\u001b[0m\u001b[0mi\u001b[0m\u001b[0;34m]\u001b[0m\u001b[0;34m*\u001b[0m\u001b[0;36m256\u001b[0m\u001b[0;34m]\u001b[0m\u001b[0;34m\u001b[0m\u001b[0;34m\u001b[0m\u001b[0m\n",
            "\u001b[0;31mValueError\u001b[0m: could not broadcast input array from shape (0) into shape (20736)"
          ]
        }
      ]
    },
    {
      "cell_type": "code",
      "metadata": {
        "id": "UcGhM2EebnFw",
        "colab_type": "code",
        "colab": {
          "base_uri": "https://localhost:8080/",
          "height": 34
        },
        "outputId": "14820b96-4736-4025-a210-4df5561b5d81"
      },
      "source": [
        "len(f.readSignal(7))"
      ],
      "execution_count": 97,
      "outputs": [
        {
          "output_type": "execute_result",
          "data": {
            "text/plain": [
              "245504"
            ]
          },
          "metadata": {
            "tags": []
          },
          "execution_count": 97
        }
      ]
    },
    {
      "cell_type": "code",
      "metadata": {
        "id": "u8qHVF9-fo_8",
        "colab_type": "code",
        "colab": {
          "base_uri": "https://localhost:8080/",
          "height": 51
        },
        "outputId": "0a5b7744-43b4-464d-ecee-78f89a91a24a"
      },
      "source": [
        "print(start_time[i]*256)\n",
        "print(end_time[i]*256)"
      ],
      "execution_count": 99,
      "outputs": [
        {
          "output_type": "stream",
          "text": [
            "760832\n",
            "781568\n"
          ],
          "name": "stdout"
        }
      ]
    },
    {
      "cell_type": "code",
      "metadata": {
        "id": "4a-cf6pMd_LO",
        "colab_type": "code",
        "colab": {
          "base_uri": "https://localhost:8080/",
          "height": 34
        },
        "outputId": "814fc8ab-1685-4856-a079-c3cbe1800454"
      },
      "source": [
        "len(files)"
      ],
      "execution_count": 80,
      "outputs": [
        {
          "output_type": "execute_result",
          "data": {
            "text/plain": [
              "198"
            ]
          },
          "metadata": {
            "tags": []
          },
          "execution_count": 80
        }
      ]
    },
    {
      "cell_type": "code",
      "metadata": {
        "id": "SiU5e1RpeBea",
        "colab_type": "code",
        "colab": {
          "base_uri": "https://localhost:8080/",
          "height": 34
        },
        "outputId": "5c8f97ac-bbf3-4231-9eb2-95882103e44d"
      },
      "source": [
        "2972*256\n"
      ],
      "execution_count": 103,
      "outputs": [
        {
          "output_type": "execute_result",
          "data": {
            "text/plain": [
              "760832"
            ]
          },
          "metadata": {
            "tags": []
          },
          "execution_count": 103
        }
      ]
    },
    {
      "cell_type": "code",
      "metadata": {
        "id": "lWO_y-OMgS_z",
        "colab_type": "code",
        "colab": {
          "base_uri": "https://localhost:8080/",
          "height": 34
        },
        "outputId": "b23d7e3a-713c-4e2e-e7e5-9104dc3b14c9"
      },
      "source": [
        "start_time[8]"
      ],
      "execution_count": 101,
      "outputs": [
        {
          "output_type": "execute_result",
          "data": {
            "text/plain": [
              "2972"
            ]
          },
          "metadata": {
            "tags": []
          },
          "execution_count": 101
        }
      ]
    },
    {
      "cell_type": "code",
      "metadata": {
        "id": "kZA4hbPBgVgQ",
        "colab_type": "code",
        "colab": {
          "base_uri": "https://localhost:8080/",
          "height": 286
        },
        "outputId": "d3408b1e-096a-4c20-89db-b5e83793c939"
      },
      "source": [
        "import matplotlib.pyplot as plt\n",
        "%matplotlib inline\n",
        "\n",
        "\n",
        "plt.plot(data[0][4])"
      ],
      "execution_count": 109,
      "outputs": [
        {
          "output_type": "execute_result",
          "data": {
            "text/plain": [
              "[<matplotlib.lines.Line2D at 0x7f91f7fbd550>]"
            ]
          },
          "metadata": {
            "tags": []
          },
          "execution_count": 109
        },
        {
          "output_type": "display_data",
          "data": {
            "image/png": "[encoded data removed]",
            "text/plain": [
              "<Figure size 432x288 with 1 Axes>"
            ]
          },
          "metadata": {
            "tags": []
          }
        }
      ]
    },
    {
      "cell_type": "code",
      "metadata": {
        "id": "7cQhrlfChiXa",
        "colab_type": "code",
        "colab": {
          "base_uri": "https://localhost:8080/",
          "height": 286
        },
        "outputId": "cdfffa6c-caf3-4120-bddc-4c69c567090d"
      },
      "source": [
        "plt.plot(f.readSignal(7)[0:100*256])"
      ],
      "execution_count": 112,
      "outputs": [
        {
          "output_type": "execute_result",
          "data": {
            "text/plain": [
              "[<matplotlib.lines.Line2D at 0x7f91f8cf2748>]"
            ]
          },
          "metadata": {
            "tags": []
          },
          "execution_count": 112
        },
        {
          "output_type": "display_data",
          "data": {
            "image/png": "[encoded data removed]",
            "text/plain": [
              "<Figure size 432x288 with 1 Axes>"
            ]
          },
          "metadata": {
            "tags": []
          }
        }
      ]
    },
    {
      "cell_type": "code",
      "metadata": {
        "id": "TyuridM_iA0o",
        "colab_type": "code",
        "colab": {}
      },
      "source": [
        ""
      ],
      "execution_count": 0,
      "outputs": []
    }
  ]
}