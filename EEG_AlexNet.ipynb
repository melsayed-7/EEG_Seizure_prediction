{
  "nbformat": 4,
  "nbformat_minor": 0,
  "metadata": {
    "colab": {
      "name": "EEG_AlexNet",
      "version": "0.3.2",
      "provenance": [],
      "machine_shape": "hm",
      "include_colab_link": true
    },
    "kernelspec": {
      "name": "python3",
      "display_name": "Python 3"
    },
    "accelerator": "GPU"
  },
  "cells": [
    {
      "cell_type": "markdown",
      "metadata": {
        "id": "view-in-github",
        "colab_type": "text"
      },
      "source": [
        "<a href=\"https://colab.research.google.com/github/moustafa-7/EEG_Seizure_prediction/blob/master/EEG_AlexNet.ipynb\" target=\"_parent\"><img src=\"https://colab.research.google.com/assets/colab-badge.svg\" alt=\"Open In Colab\"/></a>"
      ]
    },
    {
      "cell_type": "code",
      "metadata": {
        "id": "K7kj-PvLgI0I",
        "colab_type": "code",
        "outputId": "f5eb28fb-e976-4dfc-ffe3-8f6095107d02",
        "colab": {
          "base_uri": "https://localhost:8080/",
          "height": 122
        }
      },
      "source": [
        "from google.colab import drive\n",
        "drive.mount('/content/drive')"
      ],
      "execution_count": 1,
      "outputs": [
        {
          "output_type": "stream",
          "text": [
            "Go to this URL in a browser: https://accounts.google.com/o/oauth2/auth?client_id=947318989803-6bn6qk8qdgf4n4g3pfee6491hc0brc4i.apps.googleusercontent.com&redirect_uri=urn%3Aietf%3Awg%3Aoauth%3A2.0%3Aoob&scope=email%20https%3A%2F%2Fwww.googleapis.com%2Fauth%2Fdocs.test%20https%3A%2F%2Fwww.googleapis.com%2Fauth%2Fdrive%20https%3A%2F%2Fwww.googleapis.com%2Fauth%2Fdrive.photos.readonly%20https%3A%2F%2Fwww.googleapis.com%2Fauth%2Fpeopleapi.readonly&response_type=code\n",
            "\n",
            "Enter your authorization code:\n",
            "··········\n",
            "Mounted at /content/drive\n"
          ],
          "name": "stdout"
        }
      ]
    },
    {
      "cell_type": "code",
      "metadata": {
        "id": "16HTldXlqmbh",
        "colab_type": "code",
        "colab": {
          "base_uri": "https://localhost:8080/",
          "height": 224
        },
        "outputId": "7d8e5cfd-b9b6-44e9-8e30-d90a46cd7219"
      },
      "source": [
        "!wget --header=\"Host: storage.googleapis.com\" --header=\"User-Agent: Mozilla/5.0 (Windows NT 10.0; Win64; x64) AppleWebKit/537.36 (KHTML, like Gecko) Chrome/76.0.3809.132 Safari/537.36\" --header=\"Accept: text/html,application/xhtml+xml,application/xml;q=0.9,image/webp,image/apng,*/*;q=0.8,application/signed-exchange;v=b3\" --header=\"Accept-Language: en-US,en;q=0.9\" --header=\"Referer: https://www.kaggle.com/\" \"https://storage.googleapis.com/kaggle-competitions-data/kaggle/3362/all.zip?GoogleAccessId=web-data@kaggle-161607.iam.gserviceaccount.com&Expires=1568419916&Signature=Tx4eruAHeSTqDbBlMmGB6BBY3eBKwqEmnum9pRruypFOWG7n3JByYNxvbDbUQshbLbtUvpqV4x46p8mTPbim3HuG4EaulRRiw%2BUyQvadhM5R4mvPW77hLHUcXOTl66UbQd6CrSbF%2FgWjG%2BMkzxwGcdJke0OgkzizRYlaAnjimwQFTRilJR9%2FbhDE%2BPK7NcT23uWxk1wEMebSLNqk701PvIyvh8QRRoj8MTc48rw0hs7PQUJTHx3DHoIBVwVuUzygdSuW4OsykSVQvuOArB9SdqpPd5%2BMbDtx7aUhXyYv%2FEI4dmVXgM9UOuxswTyy1jS7AkqaDagbAh2OOXk%2FdZXHXg%3D%3D&response-content-disposition=attachment%3B+filename%3Ddogs-vs-cats.zip\" -O \"dogs-vs-cats.zip\" -c"
      ],
      "execution_count": 1,
      "outputs": [
        {
          "output_type": "stream",
          "text": [
            "--2019-09-11 00:25:54--  https://storage.googleapis.com/kaggle-competitions-data/kaggle/3362/all.zip?GoogleAccessId=web-data@kaggle-161607.iam.gserviceaccount.com&Expires=1568419916&Signature=Tx4eruAHeSTqDbBlMmGB6BBY3eBKwqEmnum9pRruypFOWG7n3JByYNxvbDbUQshbLbtUvpqV4x46p8mTPbim3HuG4EaulRRiw%2BUyQvadhM5R4mvPW77hLHUcXOTl66UbQd6CrSbF%2FgWjG%2BMkzxwGcdJke0OgkzizRYlaAnjimwQFTRilJR9%2FbhDE%2BPK7NcT23uWxk1wEMebSLNqk701PvIyvh8QRRoj8MTc48rw0hs7PQUJTHx3DHoIBVwVuUzygdSuW4OsykSVQvuOArB9SdqpPd5%2BMbDtx7aUhXyYv%2FEI4dmVXgM9UOuxswTyy1jS7AkqaDagbAh2OOXk%2FdZXHXg%3D%3D&response-content-disposition=attachment%3B+filename%3Ddogs-vs-cats.zip\n",
            "Resolving storage.googleapis.com (storage.googleapis.com)... 74.125.143.128, 2a00:1450:4013:c04::80\n",
            "Connecting to storage.googleapis.com (storage.googleapis.com)|74.125.143.128|:443... connected.\n",
            "HTTP request sent, awaiting response... 200 OK\n",
            "Length: 851576569 (812M) [application/zip]\n",
            "Saving to: ‘dogs-vs-cats.zip’\n",
            "\n",
            "dogs-vs-cats.zip    100%[===================>] 812.13M  55.8MB/s    in 17s     \n",
            "\n",
            "2019-09-11 00:26:11 (47.3 MB/s) - ‘dogs-vs-cats.zip’ saved [851576569/851576569]\n",
            "\n"
          ],
          "name": "stdout"
        }
      ]
    },
    {
      "cell_type": "code",
      "metadata": {
        "id": "k5e7uGurqrbg",
        "colab_type": "code",
        "colab": {
          "base_uri": "https://localhost:8080/",
          "height": 85
        },
        "outputId": "aa311258-f03f-44e9-f58d-9b6361f4f096"
      },
      "source": [
        "!unzip dogs-vs-cats.zip"
      ],
      "execution_count": 2,
      "outputs": [
        {
          "output_type": "stream",
          "text": [
            "Archive:  dogs-vs-cats.zip\n",
            "  inflating: sampleSubmission.csv    \n",
            "  inflating: train.zip               \n",
            "  inflating: test1.zip               \n"
          ],
          "name": "stdout"
        }
      ]
    },
    {
      "cell_type": "code",
      "metadata": {
        "id": "EXDXAOXQqyj8",
        "colab_type": "code",
        "colab": {}
      },
      "source": [
        "!unzip train.zip -d data"
      ],
      "execution_count": 0,
      "outputs": []
    },
    {
      "cell_type": "code",
      "metadata": {
        "id": "c1NdrmUFqyX4",
        "colab_type": "code",
        "colab": {}
      },
      "source": [
        "import cv2\n",
        "import os\n",
        "import glob\n",
        "img_dir = \"data/train/\" # Enter Directory of all images \n",
        "data_path = os.path.join(img_dir,'cat.'+'*.jpg')\n",
        "files_1 = glob.glob(data_path)\n",
        "\n",
        "data = []\n",
        "for f1 in files_1:\n",
        "    img = cv2.imread(f1)\n",
        "    data.append([cv2.resize(img,(128,128)),[0,1]])"
      ],
      "execution_count": 0,
      "outputs": []
    },
    {
      "cell_type": "code",
      "metadata": {
        "id": "w-ZT7KMssLa2",
        "colab_type": "code",
        "colab": {}
      },
      "source": [
        "img_dir = \"data/train/\" # Enter Directory of all images \n",
        "data_path = os.path.join(img_dir,'dog.'+'*.jpg')\n",
        "files_1 = glob.glob(data_path)\n",
        "\n",
        "for f1 in files_1:\n",
        "    img = cv2.imread(f1)\n",
        "    data.append([cv2.resize(img,(128,128)),[1,0]])"
      ],
      "execution_count": 0,
      "outputs": []
    },
    {
      "cell_type": "code",
      "metadata": {
        "id": "KUowgIXCsEXm",
        "colab_type": "code",
        "colab": {
          "base_uri": "https://localhost:8080/",
          "height": 34
        },
        "outputId": "c812ae8d-2efe-4b59-9058-ba96a0704d87"
      },
      "source": [
        "len(data)"
      ],
      "execution_count": 3,
      "outputs": [
        {
          "output_type": "execute_result",
          "data": {
            "text/plain": [
              "25000"
            ]
          },
          "metadata": {
            "tags": []
          },
          "execution_count": 3
        }
      ]
    },
    {
      "cell_type": "code",
      "metadata": {
        "id": "TkVwXvsmgNzG",
        "colab_type": "code",
        "colab": {}
      },
      "source": [
        "import cv2\n",
        "import os\n",
        "import glob\n",
        "img_dir = \"drive/My Drive/trial_2/no_seizure/\" # Enter Directory of all images \n",
        "data_path = os.path.join(img_dir,'*g')\n",
        "files_1 = glob.glob(data_path)\n",
        "\n",
        "data = []\n",
        "for f1 in files_1[:100]:\n",
        "    img = cv2.imread(f1,0)\n",
        "    data.append([cv2.resize(img,(128,128)),[0,1]])"
      ],
      "execution_count": 0,
      "outputs": []
    },
    {
      "cell_type": "code",
      "metadata": {
        "id": "BrAkKbe-DPFG",
        "colab_type": "code",
        "colab": {
          "base_uri": "https://localhost:8080/",
          "height": 34
        },
        "outputId": "db4e54a4-4623-466a-ae5f-287ef1bcab69"
      },
      "source": [
        "len(data)"
      ],
      "execution_count": 137,
      "outputs": [
        {
          "output_type": "execute_result",
          "data": {
            "text/plain": [
              "100"
            ]
          },
          "metadata": {
            "tags": []
          },
          "execution_count": 137
        }
      ]
    },
    {
      "cell_type": "code",
      "metadata": {
        "id": "T-nR-iBZpUxo",
        "colab_type": "code",
        "colab": {
          "base_uri": "https://localhost:8080/",
          "height": 34
        },
        "outputId": "544ecdab-1799-4cae-87a5-df6b3b843857"
      },
      "source": [
        "data[0][0].shape"
      ],
      "execution_count": 33,
      "outputs": [
        {
          "output_type": "execute_result",
          "data": {
            "text/plain": [
              "(128, 128, 3)"
            ]
          },
          "metadata": {
            "tags": []
          },
          "execution_count": 33
        }
      ]
    },
    {
      "cell_type": "code",
      "metadata": {
        "id": "T5Kt-QQWrLSD",
        "colab_type": "code",
        "colab": {
          "base_uri": "https://localhost:8080/",
          "height": 286
        },
        "outputId": "2e6e8512-497b-408b-fa80-abbb0bd1cca2"
      },
      "source": [
        "import matplotlib.pyplot as plt\n",
        "im = cv2.imread(\"data/train/dog.9990.jpg\")\n",
        "plt.imshow(im)"
      ],
      "execution_count": 171,
      "outputs": [
        {
          "output_type": "execute_result",
          "data": {
            "text/plain": [
              "<matplotlib.image.AxesImage at 0x7f72c3517828>"
            ]
          },
          "metadata": {
            "tags": []
          },
          "execution_count": 171
        },
        {
          "output_type": "display_data",
          "data": {
            "image/png": "[encoded data removed]",
            "text/plain": [
              "<Figure size 432x288 with 1 Axes>"
            ]
          },
          "metadata": {
            "tags": []
          }
        }
      ]
    },
    {
      "cell_type": "code",
      "metadata": {
        "id": "7uQmoE7Epbb7",
        "colab_type": "code",
        "outputId": "f40cd5dd-bc5c-4057-913e-878a6876029d",
        "colab": {
          "base_uri": "https://localhost:8080/",
          "height": 286
        }
      },
      "source": [
        "import matplotlib.pyplot as plt\n",
        "plt.imshow(data[0][0], cmap = \"gray\")\n",
        "print(data[0][0].shape)"
      ],
      "execution_count": 139,
      "outputs": [
        {
          "output_type": "stream",
          "text": [
            "(227, 227)\n"
          ],
          "name": "stdout"
        },
        {
          "output_type": "display_data",
          "data": {
            "image/png": "[encoded data removed]",
            "text/plain": [
              "<Figure size 432x288 with 1 Axes>"
            ]
          },
          "metadata": {
            "tags": []
          }
        }
      ]
    },
    {
      "cell_type": "code",
      "metadata": {
        "id": "Muc_NYadkK3-",
        "colab_type": "code",
        "colab": {}
      },
      "source": [
        "img_dir = \"drive/My Drive/trial_2/seizure/\" # Enter Directory of all images \n",
        "data_path = os.path.join(img_dir,'*g')\n",
        "files_2 = glob.glob(data_path)\n",
        "\n",
        "for f1 in files_2:\n",
        "    img = cv2.imread(f1,0)\n",
        "    data.append([cv2.resize(img,(227,227)),[1,0]])"
      ],
      "execution_count": 0,
      "outputs": []
    },
    {
      "cell_type": "code",
      "metadata": {
        "id": "BgB4wKftxAgT",
        "colab_type": "code",
        "colab": {
          "base_uri": "https://localhost:8080/",
          "height": 34
        },
        "outputId": "32c101f6-07c1-4d5f-9109-5ccb8b08c5a5"
      },
      "source": [
        "len(data)"
      ],
      "execution_count": 141,
      "outputs": [
        {
          "output_type": "execute_result",
          "data": {
            "text/plain": [
              "168"
            ]
          },
          "metadata": {
            "tags": []
          },
          "execution_count": 141
        }
      ]
    },
    {
      "cell_type": "code",
      "metadata": {
        "id": "wO_vZlPaqE3G",
        "colab_type": "code",
        "colab": {}
      },
      "source": [
        "import random\n",
        "random.shuffle(data)"
      ],
      "execution_count": 0,
      "outputs": []
    },
    {
      "cell_type": "code",
      "metadata": {
        "id": "1fX9pK09rRAe",
        "colab_type": "code",
        "outputId": "e5279d8c-8606-4446-9567-fe78fc90031b",
        "colab": {
          "base_uri": "https://localhost:8080/",
          "height": 34
        }
      },
      "source": [
        "print(len(data))"
      ],
      "execution_count": 14,
      "outputs": [
        {
          "output_type": "stream",
          "text": [
            "25000\n"
          ],
          "name": "stdout"
        }
      ]
    },
    {
      "cell_type": "code",
      "metadata": {
        "id": "YdT7Q8YDxoAw",
        "colab_type": "code",
        "colab": {}
      },
      "source": [
        "from numpy import newaxis\n",
        "for i in range(len(data)):\n",
        "  data[i][0] = data[i][0][:,:, newaxis]"
      ],
      "execution_count": 0,
      "outputs": []
    },
    {
      "cell_type": "code",
      "metadata": {
        "id": "vHDIBl__sEVb",
        "colab_type": "code",
        "outputId": "27cb983a-54d7-4c83-f25f-864d0e78bfd9",
        "colab": {
          "base_uri": "https://localhost:8080/",
          "height": 34
        }
      },
      "source": [
        "data[100][0].shape"
      ],
      "execution_count": 34,
      "outputs": [
        {
          "output_type": "execute_result",
          "data": {
            "text/plain": [
              "(227, 227, 3)"
            ]
          },
          "metadata": {
            "tags": []
          },
          "execution_count": 34
        }
      ]
    },
    {
      "cell_type": "code",
      "metadata": {
        "id": "_ckm3XfWAoOD",
        "colab_type": "code",
        "colab": {
          "base_uri": "https://localhost:8080/",
          "height": 34
        },
        "outputId": "19a2c8f6-4c15-4b51-deb0-cad8bc6b435d"
      },
      "source": [
        "len(data)"
      ],
      "execution_count": 18,
      "outputs": [
        {
          "output_type": "execute_result",
          "data": {
            "text/plain": [
              "25000"
            ]
          },
          "metadata": {
            "tags": []
          },
          "execution_count": 18
        }
      ]
    },
    {
      "cell_type": "code",
      "metadata": {
        "id": "ZmE2oqv-q-a8",
        "colab_type": "code",
        "colab": {}
      },
      "source": [
        "x = []\n",
        "y = []\n",
        "\n",
        "test_size = 3000\n",
        "\n",
        "for i in range(len(data)-test_size):\n",
        "  x.append(data[i][0])\n",
        "  y.append(data[i][1])"
      ],
      "execution_count": 0,
      "outputs": []
    },
    {
      "cell_type": "code",
      "metadata": {
        "id": "3exayzfq5gXL",
        "colab_type": "code",
        "colab": {}
      },
      "source": [
        "import numpy\n",
        "x = numpy.array(x)\n",
        "y = numpy.array(y)"
      ],
      "execution_count": 0,
      "outputs": []
    },
    {
      "cell_type": "code",
      "metadata": {
        "id": "cojxc_Wxrr6S",
        "colab_type": "code",
        "outputId": "cef8e0aa-6d38-40fd-92f3-5dd729790ee2",
        "colab": {
          "base_uri": "https://localhost:8080/",
          "height": 34
        }
      },
      "source": [
        "type(x[100])"
      ],
      "execution_count": 6,
      "outputs": [
        {
          "output_type": "execute_result",
          "data": {
            "text/plain": [
              "numpy.ndarray"
            ]
          },
          "metadata": {
            "tags": []
          },
          "execution_count": 6
        }
      ]
    },
    {
      "cell_type": "code",
      "metadata": {
        "id": "gmahvAuE63Kx",
        "colab_type": "code",
        "colab": {}
      },
      "source": [
        "x_test = []\n",
        "y_test = []\n",
        "\n",
        "for i in range(test_size):\n",
        "  x_test.append(data[len(data)-i-test_size][0])\n",
        "  y_test.append(data[len(data)-i-test_size][1])\n",
        "\n",
        "  \n",
        "x_test = numpy.array(x_test)\n",
        "y_test = numpy.array(y_test)"
      ],
      "execution_count": 0,
      "outputs": []
    },
    {
      "cell_type": "code",
      "metadata": {
        "id": "a3HraWeOkZjr",
        "colab_type": "code",
        "outputId": "b9a57d52-c426-4871-fd57-3f49ab5f1ce9",
        "colab": {
          "base_uri": "https://localhost:8080/",
          "height": 1000
        }
      },
      "source": [
        "import keras\n",
        "from keras.models import Sequential\n",
        "from keras.layers import Dense, Activation, Dropout, Flatten, Conv2D, MaxPooling2D\n",
        "from keras.layers.normalization import BatchNormalization\n",
        "import numpy as np\n",
        "from keras.optimizers import SGD\n",
        "from keras import backend as K\n",
        "from sklearn.metrics import precision_score, recall_score, f1_score\n",
        "\n",
        "\n",
        "K.clear_session()\n",
        "\n",
        "\n",
        "\n",
        "np.random.seed(42)\n",
        "#Instantiate an empty model\n",
        "model_2 = Sequential()\n",
        "\n",
        "# 1st Convolutional Layer\n",
        "model_2.add(Conv2D(filters=96, input_shape=(128,128,3), kernel_size=(11,11), strides=(4,4), padding='valid'))\n",
        "model_2.add(Activation('relu'))\n",
        "# Max Pooling\n",
        "model_2.add(MaxPooling2D(pool_size=(2,2), strides=(2,2), padding='valid'))\n",
        "\n",
        "# 2nd Convolutional Layer\n",
        "model_2.add(Conv2D(filters=256, kernel_size=(5,5), strides=(1,1), padding='valid'))\n",
        "model_2.add(Activation('relu'))\n",
        "# Max Pooling\n",
        "model_2.add(MaxPooling2D(pool_size=(2,2), strides=(2,2), padding='valid'))\n",
        "\n",
        "# 3rd Convolutional Layer\n",
        "model_2.add(Conv2D(filters=384, kernel_size=(3,3), strides=(1,1), padding='valid'))\n",
        "model_2.add(Activation('relu'))\n",
        "\n",
        "# 4th Convolutional Layer\n",
        "model_2.add(Conv2D(filters=384, kernel_size=(3,3), strides=(1,1), padding='valid'))\n",
        "model_2.add(Activation('relu'))\n",
        "\"\"\"\n",
        "# 5th Convolutional Layer\n",
        "model_2.add(Conv2D(filters=256, kernel_size=(3,3), strides=(1,1), padding='valid'))\n",
        "model_2.add(Activation('relu'))\n",
        "# Max Pooling\n",
        "model_2.add(MaxPooling2D(pool_size=(2,2), strides=(2,2), padding='valid'))\n",
        "\n",
        "\"\"\"\n",
        "# Passing it to a Fully Connected layer\n",
        "model_2.add(Flatten())\n",
        "\n",
        "\"\"\"\n",
        "# 1st Fully Connected Layer\n",
        "model_2.add(Dense(4096, input_shape=(227*227*3,)))\n",
        "model_2.add(Activation('relu'))\n",
        "# Add Dropout to prevent overfitting\n",
        "model_2.add(Dropout(0.4))\n",
        "\n",
        "# 2nd Fully Connected Layer\n",
        "model_2.add(Dense(2048))\n",
        "model_2.add(Activation('relu'))\n",
        "# Add Dropout\n",
        "model_2.add(Dropout(0.4))\n",
        "\n",
        "# 3rd Fully Connected Layer\n",
        "model_2.add(Dense(1000))\n",
        "model_2.add(Activation('relu'))\n",
        "# Add Dropout\n",
        "model_2.add(Dropout(0.4))\n",
        "\"\"\"\n",
        "model_2.add(Dense(512))\n",
        "model_2.add(Activation('relu'))\n",
        "# Add Dropout\n",
        "model_2.add(Dropout(0.4))\n",
        "\n",
        "\n",
        "model_2.add(Dense(128))\n",
        "model_2.add(Activation('relu'))\n",
        "# Add Dropout\n",
        "model_2.add(Dropout(0.4))\n",
        "\n",
        "\n",
        "\n",
        "model_2.add(Dense(64))\n",
        "model_2.add(Activation('relu'))\n",
        "# Add Dropout\n",
        "model_2.add(Dropout(0.4))\n",
        "\n",
        "\n",
        "\"\"\"\n",
        "model_2.add(Dense(16))\n",
        "model_2.add(Activation('relu'))\n",
        "# Add Dropout\n",
        "model_2.add(Dropout(0.4))\n",
        "\"\"\"\n",
        "# Output Layer\n",
        "model_2.add(Dense(2))\n",
        "model_2.add(Activation('softmax'))\n",
        "\n",
        "model_2.summary()\n",
        "\n",
        "\n",
        "\n",
        "\n",
        "\n",
        "def recall_m(y_true, y_pred):\n",
        "        true_positives = K.sum(K.round(K.clip(y_true * y_pred, 0, 1)))\n",
        "        possible_positives = K.sum(K.round(K.clip(y_true, 0, 1)))\n",
        "        recall = true_positives / (possible_positives + K.epsilon())\n",
        "        return recall\n",
        "\n",
        "def precision_m(y_true, y_pred):\n",
        "        true_positives = K.sum(K.round(K.clip(y_true * y_pred, 0, 1)))\n",
        "        predicted_positives = K.sum(K.round(K.clip(y_pred, 0, 1)))\n",
        "        precision = true_positives / (predicted_positives + K.epsilon())\n",
        "        return precision\n",
        "\n",
        "def f1_m(y_true, y_pred):\n",
        "    precision = precision_m(y_true, y_pred)\n",
        "    recall = recall_m(y_true, y_pred)\n",
        "    return 2*((precision*recall)/(precision+recall+K.epsilon()))\n",
        "\n",
        "\n",
        "\n",
        "\n",
        "\n",
        "datagen = keras.preprocessing.image.ImageDataGenerator(\n",
        "    featurewise_center=True,\n",
        "    featurewise_std_normalization=True,\n",
        "    rotation_range=20,\n",
        "    width_shift_range=0,\n",
        "    height_shift_range=0,\n",
        "    horizontal_flip=False)\n",
        "\n",
        "\n",
        "# compute quantities required for featurewise normalization\n",
        "# (std, mean, and principal components if ZCA whitening is applied)\n",
        "datagen.fit(x)\n",
        "\n",
        "\n",
        "\n",
        "epochs = 10\n",
        "opt = SGD(lr=0.001, decay=1e-6, momentum=0.9, nesterov=True)\n",
        "# Compile the model\n",
        "model_2.compile(loss=keras.losses.categorical_crossentropy, optimizer=opt, metrics=[\"accuracy\", f1_m])\n",
        "#model_2.fit(x, y, batch_size=32, epochs=1, verbose=1, validation_split=0.1, shuffle='True' )\n",
        "\n",
        "# fits the model on batches with real-time data augmentation:\n",
        "model_2.fit_generator(datagen.flow(x, y, batch_size=32), steps_per_epoch=len(x) / 32, epochs=epochs, validation_data=(x_test, y_test))"
      ],
      "execution_count": 10,
      "outputs": [
        {
          "output_type": "stream",
          "text": [
            "Model: \"sequential_1\"\n",
            "_________________________________________________________________\n",
            "Layer (type)                 Output Shape              Param #   \n",
            "=================================================================\n",
            "conv2d_1 (Conv2D)            (None, 30, 30, 96)        34944     \n",
            "_________________________________________________________________\n",
            "activation_1 (Activation)    (None, 30, 30, 96)        0         \n",
            "_________________________________________________________________\n",
            "max_pooling2d_1 (MaxPooling2 (None, 15, 15, 96)        0         \n",
            "_________________________________________________________________\n",
            "conv2d_2 (Conv2D)            (None, 11, 11, 256)       614656    \n",
            "_________________________________________________________________\n",
            "activation_2 (Activation)    (None, 11, 11, 256)       0         \n",
            "_________________________________________________________________\n",
            "max_pooling2d_2 (MaxPooling2 (None, 5, 5, 256)         0         \n",
            "_________________________________________________________________\n",
            "conv2d_3 (Conv2D)            (None, 3, 3, 384)         885120    \n",
            "_________________________________________________________________\n",
            "activation_3 (Activation)    (None, 3, 3, 384)         0         \n",
            "_________________________________________________________________\n",
            "conv2d_4 (Conv2D)            (None, 1, 1, 384)         1327488   \n",
            "_________________________________________________________________\n",
            "activation_4 (Activation)    (None, 1, 1, 384)         0         \n",
            "_________________________________________________________________\n",
            "flatten_1 (Flatten)          (None, 384)               0         \n",
            "_________________________________________________________________\n",
            "dense_1 (Dense)              (None, 512)               197120    \n",
            "_________________________________________________________________\n",
            "activation_5 (Activation)    (None, 512)               0         \n",
            "_________________________________________________________________\n",
            "dropout_1 (Dropout)          (None, 512)               0         \n",
            "_________________________________________________________________\n",
            "dense_2 (Dense)              (None, 128)               65664     \n",
            "_________________________________________________________________\n",
            "activation_6 (Activation)    (None, 128)               0         \n",
            "_________________________________________________________________\n",
            "dropout_2 (Dropout)          (None, 128)               0         \n",
            "_________________________________________________________________\n",
            "dense_3 (Dense)              (None, 64)                8256      \n",
            "_________________________________________________________________\n",
            "activation_7 (Activation)    (None, 64)                0         \n",
            "_________________________________________________________________\n",
            "dropout_3 (Dropout)          (None, 64)                0         \n",
            "_________________________________________________________________\n",
            "dense_4 (Dense)              (None, 2)                 130       \n",
            "_________________________________________________________________\n",
            "activation_8 (Activation)    (None, 2)                 0         \n",
            "=================================================================\n",
            "Total params: 3,133,378\n",
            "Trainable params: 3,133,378\n",
            "Non-trainable params: 0\n",
            "_________________________________________________________________\n",
            "Epoch 1/10\n",
            "688/687 [==============================] - 59s 85ms/step - loss: 0.6926 - acc: 0.5185 - f1_m: 0.5185 - val_loss: 3.9129 - val_acc: 0.5233 - val_f1_m: 0.5233\n",
            "Epoch 2/10\n",
            "688/687 [==============================] - 58s 84ms/step - loss: 0.6841 - acc: 0.5611 - f1_m: 0.5611 - val_loss: 6.2718 - val_acc: 0.5540 - val_f1_m: 0.5540\n",
            "Epoch 3/10\n",
            "688/687 [==============================] - 58s 84ms/step - loss: 0.6562 - acc: 0.6165 - f1_m: 0.6165 - val_loss: 6.2547 - val_acc: 0.5853 - val_f1_m: 0.5853\n",
            "Epoch 4/10\n",
            "688/687 [==============================] - 59s 86ms/step - loss: 0.5996 - acc: 0.6882 - f1_m: 0.6882 - val_loss: 4.1857 - val_acc: 0.6950 - val_f1_m: 0.6950\n",
            "Epoch 5/10\n",
            "688/687 [==============================] - 59s 86ms/step - loss: 0.5540 - acc: 0.7318 - f1_m: 0.7318 - val_loss: 4.2084 - val_acc: 0.7030 - val_f1_m: 0.7030\n",
            "Epoch 6/10\n",
            "688/687 [==============================] - 59s 86ms/step - loss: 0.5169 - acc: 0.7552 - f1_m: 0.7552 - val_loss: 4.4878 - val_acc: 0.6780 - val_f1_m: 0.6780\n",
            "Epoch 7/10\n",
            "688/687 [==============================] - 58s 85ms/step - loss: 0.4886 - acc: 0.7723 - f1_m: 0.7723 - val_loss: 3.8269 - val_acc: 0.7100 - val_f1_m: 0.7100\n",
            "Epoch 8/10\n",
            "688/687 [==============================] - 59s 86ms/step - loss: 0.4624 - acc: 0.7882 - f1_m: 0.7882 - val_loss: 4.6117 - val_acc: 0.6740 - val_f1_m: 0.6740\n",
            "Epoch 9/10\n",
            "688/687 [==============================] - 59s 86ms/step - loss: 0.4390 - acc: 0.8052 - f1_m: 0.8052 - val_loss: 2.3308 - val_acc: 0.8027 - val_f1_m: 0.8027\n",
            "Epoch 10/10\n",
            "688/687 [==============================] - 59s 85ms/step - loss: 0.4224 - acc: 0.8148 - f1_m: 0.8148 - val_loss: 2.4009 - val_acc: 0.7993 - val_f1_m: 0.7993\n"
          ],
          "name": "stdout"
        },
        {
          "output_type": "execute_result",
          "data": {
            "text/plain": [
              "<keras.callbacks.History at 0x7f6fd1089e80>"
            ]
          },
          "metadata": {
            "tags": []
          },
          "execution_count": 10
        }
      ]
    },
    {
      "cell_type": "code",
      "metadata": {
        "id": "ewTKuZAcNoZ3",
        "colab_type": "code",
        "colab": {
          "base_uri": "https://localhost:8080/",
          "height": 374
        },
        "outputId": "ac463fc7-3a91-4e2c-d69d-600d90a0d019"
      },
      "source": [
        "# fits the model on batches with real-time data augmentation:\n",
        "model_2.fit_generator(datagen.flow(x, y, batch_size=32), steps_per_epoch=len(x) / 32, epochs=epochs, validation_data=(x_test, y_test))"
      ],
      "execution_count": 12,
      "outputs": [
        {
          "output_type": "stream",
          "text": [
            "Epoch 1/10\n",
            "688/687 [==============================] - 58s 85ms/step - loss: 0.2391 - acc: 0.9036 - f1_m: 0.9036 - val_loss: 1.5346 - val_acc: 0.8770 - val_f1_m: 0.8770\n",
            "Epoch 2/10\n",
            "688/687 [==============================] - 58s 85ms/step - loss: 0.2286 - acc: 0.9069 - f1_m: 0.9069 - val_loss: 1.1305 - val_acc: 0.9167 - val_f1_m: 0.9167\n",
            "Epoch 3/10\n",
            "688/687 [==============================] - 59s 85ms/step - loss: 0.2153 - acc: 0.9141 - f1_m: 0.9141 - val_loss: 0.5749 - val_acc: 0.9467 - val_f1_m: 0.9467\n",
            "Epoch 4/10\n",
            "688/687 [==============================] - 59s 85ms/step - loss: 0.2015 - acc: 0.9186 - f1_m: 0.9186 - val_loss: 1.5975 - val_acc: 0.8800 - val_f1_m: 0.8800\n",
            "Epoch 5/10\n",
            "688/687 [==============================] - 59s 86ms/step - loss: 0.1903 - acc: 0.9252 - f1_m: 0.9252 - val_loss: 1.4616 - val_acc: 0.8880 - val_f1_m: 0.8880\n",
            "Epoch 6/10\n",
            "688/687 [==============================] - 59s 86ms/step - loss: 0.1791 - acc: 0.9281 - f1_m: 0.9281 - val_loss: 1.7398 - val_acc: 0.8653 - val_f1_m: 0.8653\n",
            "Epoch 7/10\n",
            "688/687 [==============================] - 59s 85ms/step - loss: 0.1700 - acc: 0.9332 - f1_m: 0.9332 - val_loss: 1.1946 - val_acc: 0.9103 - val_f1_m: 0.9103\n",
            "Epoch 8/10\n",
            "688/687 [==============================] - 60s 87ms/step - loss: 0.1608 - acc: 0.9375 - f1_m: 0.9375 - val_loss: 1.7660 - val_acc: 0.8683 - val_f1_m: 0.8683\n",
            "Epoch 9/10\n",
            "688/687 [==============================] - 59s 85ms/step - loss: 0.1480 - acc: 0.9438 - f1_m: 0.9438 - val_loss: 0.7336 - val_acc: 0.9427 - val_f1_m: 0.9427\n",
            "Epoch 10/10\n",
            "688/687 [==============================] - 58s 85ms/step - loss: 0.1472 - acc: 0.9449 - f1_m: 0.9449 - val_loss: 0.7131 - val_acc: 0.9423 - val_f1_m: 0.9423\n"
          ],
          "name": "stdout"
        },
        {
          "output_type": "execute_result",
          "data": {
            "text/plain": [
              "<keras.callbacks.History at 0x7f6fd065cf98>"
            ]
          },
          "metadata": {
            "tags": []
          },
          "execution_count": 12
        }
      ]
    },
    {
      "cell_type": "code",
      "metadata": {
        "id": "IJFCwJbD8dIK",
        "colab_type": "code",
        "colab": {
          "base_uri": "https://localhost:8080/",
          "height": 527
        },
        "outputId": "a365cd2b-dc7e-4ddd-ce7a-db872e50c844"
      },
      "source": [
        "model_2.predict(x_test)"
      ],
      "execution_count": 158,
      "outputs": [
        {
          "output_type": "execute_result",
          "data": {
            "text/plain": [
              "array([[0., 1.],\n",
              "       [0., 1.],\n",
              "       [0., 1.],\n",
              "       [0., 1.],\n",
              "       [0., 1.],\n",
              "       [0., 1.],\n",
              "       [0., 1.],\n",
              "       [0., 1.],\n",
              "       [0., 1.],\n",
              "       [0., 1.],\n",
              "       [0., 1.],\n",
              "       [0., 1.],\n",
              "       [0., 1.],\n",
              "       [0., 1.],\n",
              "       [0., 1.],\n",
              "       [0., 1.],\n",
              "       [0., 1.],\n",
              "       [0., 1.],\n",
              "       [0., 1.],\n",
              "       [0., 1.],\n",
              "       [0., 1.],\n",
              "       [0., 1.],\n",
              "       [0., 1.],\n",
              "       [0., 1.],\n",
              "       [0., 1.],\n",
              "       [0., 1.],\n",
              "       [0., 1.],\n",
              "       [0., 1.],\n",
              "       [0., 1.],\n",
              "       [0., 1.]], dtype=float32)"
            ]
          },
          "metadata": {
            "tags": []
          },
          "execution_count": 158
        }
      ]
    },
    {
      "cell_type": "code",
      "metadata": {
        "id": "DYzoHAfa9R-j",
        "colab_type": "code",
        "colab": {
          "base_uri": "https://localhost:8080/",
          "height": 527
        },
        "outputId": "694e1cf3-d8c5-40ba-82fa-8455cccb840e"
      },
      "source": [
        "y_test"
      ],
      "execution_count": 159,
      "outputs": [
        {
          "output_type": "execute_result",
          "data": {
            "text/plain": [
              "array([[0, 1],\n",
              "       [1, 0],\n",
              "       [0, 1],\n",
              "       [0, 1],\n",
              "       [0, 1],\n",
              "       [0, 1],\n",
              "       [0, 1],\n",
              "       [1, 0],\n",
              "       [1, 0],\n",
              "       [1, 0],\n",
              "       [0, 1],\n",
              "       [0, 1],\n",
              "       [1, 0],\n",
              "       [0, 1],\n",
              "       [0, 1],\n",
              "       [1, 0],\n",
              "       [0, 1],\n",
              "       [1, 0],\n",
              "       [0, 1],\n",
              "       [0, 1],\n",
              "       [0, 1],\n",
              "       [0, 1],\n",
              "       [1, 0],\n",
              "       [0, 1],\n",
              "       [0, 1],\n",
              "       [0, 1],\n",
              "       [1, 0],\n",
              "       [0, 1],\n",
              "       [1, 0],\n",
              "       [1, 0]])"
            ]
          },
          "metadata": {
            "tags": []
          },
          "execution_count": 159
        }
      ]
    },
    {
      "cell_type": "code",
      "metadata": {
        "id": "D3NTkBNutAAO",
        "colab_type": "code",
        "colab": {
          "base_uri": "https://localhost:8080/",
          "height": 34
        },
        "outputId": "8aa5f3aa-6784-470b-e377-87af94b029bb"
      },
      "source": [
        "x.shape"
      ],
      "execution_count": 52,
      "outputs": [
        {
          "output_type": "execute_result",
          "data": {
            "text/plain": [
              "(784, 227, 227, 1)"
            ]
          },
          "metadata": {
            "tags": []
          },
          "execution_count": 52
        }
      ]
    },
    {
      "cell_type": "code",
      "metadata": {
        "id": "APy2Wbbf4xzs",
        "colab_type": "code",
        "colab": {
          "base_uri": "https://localhost:8080/",
          "height": 34
        },
        "outputId": "8fc1ddaf-56a3-48ec-eda9-9a16c512581a"
      },
      "source": [
        "x[:-50,:,:,:].shape"
      ],
      "execution_count": 61,
      "outputs": [
        {
          "output_type": "execute_result",
          "data": {
            "text/plain": [
              "(734, 227, 227, 1)"
            ]
          },
          "metadata": {
            "tags": []
          },
          "execution_count": 61
        }
      ]
    },
    {
      "cell_type": "code",
      "metadata": {
        "id": "vdRM_ovj46Tn",
        "colab_type": "code",
        "colab": {}
      },
      "source": [
        "x[:-50,:,:,:]"
      ],
      "execution_count": 0,
      "outputs": []
    },
    {
      "cell_type": "code",
      "metadata": {
        "id": "q_I7Eo0Y5oRL",
        "colab_type": "code",
        "colab": {
          "base_uri": "https://localhost:8080/",
          "height": 561
        },
        "outputId": "f395329e-2190-42af-b019-7b30a5bb1870"
      },
      "source": [
        "import keras\n",
        "from keras.layers import LeakyReLU\n",
        "import keras\n",
        "from keras.models import Sequential\n",
        "from keras.layers import Dense, Activation, Dropout, Flatten, Conv2D, MaxPooling2D\n",
        "from keras.layers.normalization import BatchNormalization\n",
        "import numpy as np\n",
        "from keras.optimizers import SGD\n",
        "from keras import backend as K\n",
        "from sklearn.metrics import precision_score, recall_score, f1_score\n",
        "\n",
        "model = keras.models.Sequential()\n",
        "\n",
        "model.add(keras.layers.Conv2D(filters=32, kernel_size=(3, 3), input_shape=(227, 227, 3)))\n",
        "model.add(Activation('relu'))\n",
        "model.add(keras.layers.Dropout(rate=0.3))\n",
        "\n",
        "model.add(keras.layers.Conv2D(filters=32, kernel_size=(3, 3)))\n",
        "model.add(Activation('relu'))\n",
        "model.add(keras.layers.Dropout(rate=0.3))\n",
        "\n",
        "model.add(keras.layers.Conv2D(filters=64, activation=\"relu\", kernel_size=(3, 3)))\n",
        "model.add(keras.layers.MaxPooling2D(pool_size=(3, 3)))\n",
        "model.add(keras.layers.Dropout(rate=0.3))\n",
        "\n",
        "model.add(keras.layers.Flatten())\n",
        "\n",
        "\n",
        "model.add(keras.layers.Dense(units=12, activation=\"relu\"))\n",
        "\n",
        "model.add(keras.layers.Dense(units=2, activation=\"softmax\"))\n",
        "\n",
        "model.summary()"
      ],
      "execution_count": 15,
      "outputs": [
        {
          "output_type": "stream",
          "text": [
            "Model: \"sequential_5\"\n",
            "_________________________________________________________________\n",
            "Layer (type)                 Output Shape              Param #   \n",
            "=================================================================\n",
            "conv2d_7 (Conv2D)            (None, 226, 226, 32)      416       \n",
            "_________________________________________________________________\n",
            "activation_3 (Activation)    (None, 226, 226, 32)      0         \n",
            "_________________________________________________________________\n",
            "dropout_4 (Dropout)          (None, 226, 226, 32)      0         \n",
            "_________________________________________________________________\n",
            "conv2d_8 (Conv2D)            (None, 224, 224, 32)      9248      \n",
            "_________________________________________________________________\n",
            "activation_4 (Activation)    (None, 224, 224, 32)      0         \n",
            "_________________________________________________________________\n",
            "dropout_5 (Dropout)          (None, 224, 224, 32)      0         \n",
            "_________________________________________________________________\n",
            "conv2d_9 (Conv2D)            (None, 222, 222, 64)      18496     \n",
            "_________________________________________________________________\n",
            "max_pooling2d_2 (MaxPooling2 (None, 74, 74, 64)        0         \n",
            "_________________________________________________________________\n",
            "dropout_6 (Dropout)          (None, 74, 74, 64)        0         \n",
            "_________________________________________________________________\n",
            "flatten_2 (Flatten)          (None, 350464)            0         \n",
            "_________________________________________________________________\n",
            "dense_3 (Dense)              (None, 12)                4205580   \n",
            "_________________________________________________________________\n",
            "dense_4 (Dense)              (None, 2)                 26        \n",
            "=================================================================\n",
            "Total params: 4,233,766\n",
            "Trainable params: 4,233,766\n",
            "Non-trainable params: 0\n",
            "_________________________________________________________________\n"
          ],
          "name": "stdout"
        }
      ]
    },
    {
      "cell_type": "code",
      "metadata": {
        "id": "F2-C75C-yyYp",
        "colab_type": "code",
        "colab": {
          "base_uri": "https://localhost:8080/",
          "height": 1000
        },
        "outputId": "9ee5d10e-f865-4456-f15c-c98b5d466085"
      },
      "source": [
        "opt = SGD(lr=0.001, decay=1e-6, momentum=0.9, nesterov=True)\n",
        "# Compile the model\n",
        "model.compile(optimizer = 'sgd', loss = 'binary_crossentropy', metrics=[\"accuracy\"])\n",
        "model.fit(x, y, batch_size=128, epochs=1, verbose=1, validation_split=0.1, shuffle='True' )"
      ],
      "execution_count": 23,
      "outputs": [
        {
          "output_type": "error",
          "ename": "ValueError",
          "evalue": "ignored",
          "traceback": [
            "\u001b[0;31m---------------------------------------------------------------------------\u001b[0m",
            "\u001b[0;31mValueError\u001b[0m                                Traceback (most recent call last)",
            "\u001b[0;32m<ipython-input-23-c263ddd79756>\u001b[0m in \u001b[0;36m<module>\u001b[0;34m()\u001b[0m\n\u001b[1;32m      1\u001b[0m \u001b[0mopt\u001b[0m \u001b[0;34m=\u001b[0m \u001b[0mSGD\u001b[0m\u001b[0;34m(\u001b[0m\u001b[0mlr\u001b[0m\u001b[0;34m=\u001b[0m\u001b[0;36m0.001\u001b[0m\u001b[0;34m,\u001b[0m \u001b[0mdecay\u001b[0m\u001b[0;34m=\u001b[0m\u001b[0;36m1e-6\u001b[0m\u001b[0;34m,\u001b[0m \u001b[0mmomentum\u001b[0m\u001b[0;34m=\u001b[0m\u001b[0;36m0.9\u001b[0m\u001b[0;34m,\u001b[0m \u001b[0mnesterov\u001b[0m\u001b[0;34m=\u001b[0m\u001b[0;32mTrue\u001b[0m\u001b[0;34m)\u001b[0m\u001b[0;34m\u001b[0m\u001b[0;34m\u001b[0m\u001b[0m\n\u001b[1;32m      2\u001b[0m \u001b[0;31m# Compile the model\u001b[0m\u001b[0;34m\u001b[0m\u001b[0;34m\u001b[0m\u001b[0;34m\u001b[0m\u001b[0m\n\u001b[0;32m----> 3\u001b[0;31m \u001b[0mmodel\u001b[0m\u001b[0;34m.\u001b[0m\u001b[0mcompile\u001b[0m\u001b[0;34m(\u001b[0m\u001b[0moptimizer\u001b[0m \u001b[0;34m=\u001b[0m \u001b[0;34m'sgd'\u001b[0m\u001b[0;34m,\u001b[0m \u001b[0mloss\u001b[0m \u001b[0;34m=\u001b[0m \u001b[0;34m'binary_crossentropy'\u001b[0m\u001b[0;34m,\u001b[0m \u001b[0mmetrics\u001b[0m\u001b[0;34m=\u001b[0m\u001b[0;34m[\u001b[0m\u001b[0;34m\"accuracy\"\u001b[0m\u001b[0;34m]\u001b[0m\u001b[0;34m)\u001b[0m\u001b[0;34m\u001b[0m\u001b[0;34m\u001b[0m\u001b[0m\n\u001b[0m\u001b[1;32m      4\u001b[0m \u001b[0mmodel\u001b[0m\u001b[0;34m.\u001b[0m\u001b[0mfit\u001b[0m\u001b[0;34m(\u001b[0m\u001b[0mx\u001b[0m\u001b[0;34m,\u001b[0m \u001b[0my\u001b[0m\u001b[0;34m,\u001b[0m \u001b[0mbatch_size\u001b[0m\u001b[0;34m=\u001b[0m\u001b[0;36m128\u001b[0m\u001b[0;34m,\u001b[0m \u001b[0mepochs\u001b[0m\u001b[0;34m=\u001b[0m\u001b[0;36m1\u001b[0m\u001b[0;34m,\u001b[0m \u001b[0mverbose\u001b[0m\u001b[0;34m=\u001b[0m\u001b[0;36m1\u001b[0m\u001b[0;34m,\u001b[0m \u001b[0mvalidation_split\u001b[0m\u001b[0;34m=\u001b[0m\u001b[0;36m0.1\u001b[0m\u001b[0;34m,\u001b[0m \u001b[0mshuffle\u001b[0m\u001b[0;34m=\u001b[0m\u001b[0;34m'True'\u001b[0m \u001b[0;34m)\u001b[0m\u001b[0;34m\u001b[0m\u001b[0;34m\u001b[0m\u001b[0m\n",
            "\u001b[0;32m/usr/local/lib/python3.6/dist-packages/keras/engine/training.py\u001b[0m in \u001b[0;36mcompile\u001b[0;34m(self, optimizer, loss, metrics, loss_weights, sample_weight_mode, weighted_metrics, target_tensors, **kwargs)\u001b[0m\n\u001b[1;32m    343\u001b[0m                 \u001b[0;32mwith\u001b[0m \u001b[0mK\u001b[0m\u001b[0;34m.\u001b[0m\u001b[0mname_scope\u001b[0m\u001b[0;34m(\u001b[0m\u001b[0mself\u001b[0m\u001b[0;34m.\u001b[0m\u001b[0moutput_names\u001b[0m\u001b[0;34m[\u001b[0m\u001b[0mi\u001b[0m\u001b[0;34m]\u001b[0m \u001b[0;34m+\u001b[0m \u001b[0;34m'_loss'\u001b[0m\u001b[0;34m)\u001b[0m\u001b[0;34m:\u001b[0m\u001b[0;34m\u001b[0m\u001b[0;34m\u001b[0m\u001b[0m\n\u001b[1;32m    344\u001b[0m                     output_loss = weighted_loss(y_true, y_pred,\n\u001b[0;32m--> 345\u001b[0;31m                                                 sample_weight, mask)\n\u001b[0m\u001b[1;32m    346\u001b[0m                 \u001b[0;32mif\u001b[0m \u001b[0mlen\u001b[0m\u001b[0;34m(\u001b[0m\u001b[0mself\u001b[0m\u001b[0;34m.\u001b[0m\u001b[0moutputs\u001b[0m\u001b[0;34m)\u001b[0m \u001b[0;34m>\u001b[0m \u001b[0;36m1\u001b[0m\u001b[0;34m:\u001b[0m\u001b[0;34m\u001b[0m\u001b[0;34m\u001b[0m\u001b[0m\n\u001b[1;32m    347\u001b[0m                     \u001b[0mself\u001b[0m\u001b[0;34m.\u001b[0m\u001b[0mmetrics_tensors\u001b[0m\u001b[0;34m.\u001b[0m\u001b[0mappend\u001b[0m\u001b[0;34m(\u001b[0m\u001b[0moutput_loss\u001b[0m\u001b[0;34m)\u001b[0m\u001b[0;34m\u001b[0m\u001b[0;34m\u001b[0m\u001b[0m\n",
            "\u001b[0;32m/usr/local/lib/python3.6/dist-packages/keras/engine/training_utils.py\u001b[0m in \u001b[0;36mweighted\u001b[0;34m(y_true, y_pred, weights, mask)\u001b[0m\n\u001b[1;32m    426\u001b[0m         \"\"\"\n\u001b[1;32m    427\u001b[0m         \u001b[0;31m# score_array has ndim >= 2\u001b[0m\u001b[0;34m\u001b[0m\u001b[0;34m\u001b[0m\u001b[0;34m\u001b[0m\u001b[0m\n\u001b[0;32m--> 428\u001b[0;31m         \u001b[0mscore_array\u001b[0m \u001b[0;34m=\u001b[0m \u001b[0mfn\u001b[0m\u001b[0;34m(\u001b[0m\u001b[0my_true\u001b[0m\u001b[0;34m,\u001b[0m \u001b[0my_pred\u001b[0m\u001b[0;34m)\u001b[0m\u001b[0;34m\u001b[0m\u001b[0;34m\u001b[0m\u001b[0m\n\u001b[0m\u001b[1;32m    429\u001b[0m         \u001b[0;32mif\u001b[0m \u001b[0mmask\u001b[0m \u001b[0;32mis\u001b[0m \u001b[0;32mnot\u001b[0m \u001b[0;32mNone\u001b[0m\u001b[0;34m:\u001b[0m\u001b[0;34m\u001b[0m\u001b[0;34m\u001b[0m\u001b[0m\n\u001b[1;32m    430\u001b[0m             \u001b[0;31m# Cast the mask to floatX to avoid float64 upcasting in Theano\u001b[0m\u001b[0;34m\u001b[0m\u001b[0;34m\u001b[0m\u001b[0;34m\u001b[0m\u001b[0m\n",
            "\u001b[0;32m/usr/local/lib/python3.6/dist-packages/keras/losses.py\u001b[0m in \u001b[0;36mbinary_crossentropy\u001b[0;34m(y_true, y_pred)\u001b[0m\n\u001b[1;32m     75\u001b[0m \u001b[0;34m\u001b[0m\u001b[0m\n\u001b[1;32m     76\u001b[0m \u001b[0;32mdef\u001b[0m \u001b[0mbinary_crossentropy\u001b[0m\u001b[0;34m(\u001b[0m\u001b[0my_true\u001b[0m\u001b[0;34m,\u001b[0m \u001b[0my_pred\u001b[0m\u001b[0;34m)\u001b[0m\u001b[0;34m:\u001b[0m\u001b[0;34m\u001b[0m\u001b[0;34m\u001b[0m\u001b[0m\n\u001b[0;32m---> 77\u001b[0;31m     \u001b[0;32mreturn\u001b[0m \u001b[0mK\u001b[0m\u001b[0;34m.\u001b[0m\u001b[0mmean\u001b[0m\u001b[0;34m(\u001b[0m\u001b[0mK\u001b[0m\u001b[0;34m.\u001b[0m\u001b[0mbinary_crossentropy\u001b[0m\u001b[0;34m(\u001b[0m\u001b[0my_true\u001b[0m\u001b[0;34m,\u001b[0m \u001b[0my_pred\u001b[0m\u001b[0;34m)\u001b[0m\u001b[0;34m,\u001b[0m \u001b[0maxis\u001b[0m\u001b[0;34m=\u001b[0m\u001b[0;34m-\u001b[0m\u001b[0;36m1\u001b[0m\u001b[0;34m)\u001b[0m\u001b[0;34m\u001b[0m\u001b[0;34m\u001b[0m\u001b[0m\n\u001b[0m\u001b[1;32m     78\u001b[0m \u001b[0;34m\u001b[0m\u001b[0m\n\u001b[1;32m     79\u001b[0m \u001b[0;34m\u001b[0m\u001b[0m\n",
            "\u001b[0;32m/usr/local/lib/python3.6/dist-packages/keras/backend/tensorflow_backend.py\u001b[0m in \u001b[0;36mbinary_crossentropy\u001b[0;34m(target, output, from_logits)\u001b[0m\n\u001b[1;32m   3654\u001b[0m         \u001b[0;31m# transform back to logits\u001b[0m\u001b[0;34m\u001b[0m\u001b[0;34m\u001b[0m\u001b[0;34m\u001b[0m\u001b[0m\n\u001b[1;32m   3655\u001b[0m         \u001b[0m_epsilon\u001b[0m \u001b[0;34m=\u001b[0m \u001b[0m_to_tensor\u001b[0m\u001b[0;34m(\u001b[0m\u001b[0mepsilon\u001b[0m\u001b[0;34m(\u001b[0m\u001b[0;34m)\u001b[0m\u001b[0;34m,\u001b[0m \u001b[0moutput\u001b[0m\u001b[0;34m.\u001b[0m\u001b[0mdtype\u001b[0m\u001b[0;34m.\u001b[0m\u001b[0mbase_dtype\u001b[0m\u001b[0;34m)\u001b[0m\u001b[0;34m\u001b[0m\u001b[0;34m\u001b[0m\u001b[0m\n\u001b[0;32m-> 3656\u001b[0;31m         \u001b[0moutput\u001b[0m \u001b[0;34m=\u001b[0m \u001b[0mtf\u001b[0m\u001b[0;34m.\u001b[0m\u001b[0mclip_by_value\u001b[0m\u001b[0;34m(\u001b[0m\u001b[0moutput\u001b[0m\u001b[0;34m,\u001b[0m \u001b[0m_epsilon\u001b[0m\u001b[0;34m,\u001b[0m \u001b[0;36m1\u001b[0m \u001b[0;34m-\u001b[0m \u001b[0m_epsilon\u001b[0m\u001b[0;34m)\u001b[0m\u001b[0;34m\u001b[0m\u001b[0;34m\u001b[0m\u001b[0m\n\u001b[0m\u001b[1;32m   3657\u001b[0m         \u001b[0moutput\u001b[0m \u001b[0;34m=\u001b[0m \u001b[0mtf\u001b[0m\u001b[0;34m.\u001b[0m\u001b[0mlog\u001b[0m\u001b[0;34m(\u001b[0m\u001b[0moutput\u001b[0m \u001b[0;34m/\u001b[0m \u001b[0;34m(\u001b[0m\u001b[0;36m1\u001b[0m \u001b[0;34m-\u001b[0m \u001b[0moutput\u001b[0m\u001b[0;34m)\u001b[0m\u001b[0;34m)\u001b[0m\u001b[0;34m\u001b[0m\u001b[0;34m\u001b[0m\u001b[0m\n\u001b[1;32m   3658\u001b[0m \u001b[0;34m\u001b[0m\u001b[0m\n",
            "\u001b[0;32m/usr/local/lib/python3.6/dist-packages/tensorflow/python/util/dispatch.py\u001b[0m in \u001b[0;36mwrapper\u001b[0;34m(*args, **kwargs)\u001b[0m\n\u001b[1;32m    178\u001b[0m     \u001b[0;34m\"\"\"Call target, and fall back on dispatchers if there is a TypeError.\"\"\"\u001b[0m\u001b[0;34m\u001b[0m\u001b[0;34m\u001b[0m\u001b[0m\n\u001b[1;32m    179\u001b[0m     \u001b[0;32mtry\u001b[0m\u001b[0;34m:\u001b[0m\u001b[0;34m\u001b[0m\u001b[0;34m\u001b[0m\u001b[0m\n\u001b[0;32m--> 180\u001b[0;31m       \u001b[0;32mreturn\u001b[0m \u001b[0mtarget\u001b[0m\u001b[0;34m(\u001b[0m\u001b[0;34m*\u001b[0m\u001b[0margs\u001b[0m\u001b[0;34m,\u001b[0m \u001b[0;34m**\u001b[0m\u001b[0mkwargs\u001b[0m\u001b[0;34m)\u001b[0m\u001b[0;34m\u001b[0m\u001b[0;34m\u001b[0m\u001b[0m\n\u001b[0m\u001b[1;32m    181\u001b[0m     \u001b[0;32mexcept\u001b[0m \u001b[0;34m(\u001b[0m\u001b[0mTypeError\u001b[0m\u001b[0;34m,\u001b[0m \u001b[0mValueError\u001b[0m\u001b[0;34m)\u001b[0m\u001b[0;34m:\u001b[0m\u001b[0;34m\u001b[0m\u001b[0;34m\u001b[0m\u001b[0m\n\u001b[1;32m    182\u001b[0m       \u001b[0;31m# Note: convert_to_eager_tensor currently raises a ValueError, not a\u001b[0m\u001b[0;34m\u001b[0m\u001b[0;34m\u001b[0m\u001b[0;34m\u001b[0m\u001b[0m\n",
            "\u001b[0;32m/usr/local/lib/python3.6/dist-packages/tensorflow/python/ops/clip_ops.py\u001b[0m in \u001b[0;36mclip_by_value\u001b[0;34m(t, clip_value_min, clip_value_max, name)\u001b[0m\n\u001b[1;32m     65\u001b[0m   \"\"\"\n\u001b[1;32m     66\u001b[0m   with ops.name_scope(name, \"clip_by_value\",\n\u001b[0;32m---> 67\u001b[0;31m                       [t, clip_value_min, clip_value_max]) as name:\n\u001b[0m\u001b[1;32m     68\u001b[0m     values = ops.convert_to_tensor(\n\u001b[1;32m     69\u001b[0m         t.values if isinstance(t, ops.IndexedSlices) else t, name=\"t\")\n",
            "\u001b[0;32m/usr/local/lib/python3.6/dist-packages/tensorflow/python/framework/ops.py\u001b[0m in \u001b[0;36m__enter__\u001b[0;34m(self)\u001b[0m\n\u001b[1;32m   6506\u001b[0m       \u001b[0;32mif\u001b[0m \u001b[0mself\u001b[0m\u001b[0;34m.\u001b[0m\u001b[0m_values\u001b[0m \u001b[0;32mis\u001b[0m \u001b[0;32mNone\u001b[0m\u001b[0;34m:\u001b[0m\u001b[0;34m\u001b[0m\u001b[0;34m\u001b[0m\u001b[0m\n\u001b[1;32m   6507\u001b[0m         \u001b[0mself\u001b[0m\u001b[0;34m.\u001b[0m\u001b[0m_values\u001b[0m \u001b[0;34m=\u001b[0m \u001b[0;34m[\u001b[0m\u001b[0;34m]\u001b[0m\u001b[0;34m\u001b[0m\u001b[0;34m\u001b[0m\u001b[0m\n\u001b[0;32m-> 6508\u001b[0;31m       \u001b[0mg\u001b[0m \u001b[0;34m=\u001b[0m \u001b[0m_get_graph_from_inputs\u001b[0m\u001b[0;34m(\u001b[0m\u001b[0mself\u001b[0m\u001b[0;34m.\u001b[0m\u001b[0m_values\u001b[0m\u001b[0;34m)\u001b[0m\u001b[0;34m\u001b[0m\u001b[0;34m\u001b[0m\u001b[0m\n\u001b[0m\u001b[1;32m   6509\u001b[0m       \u001b[0mself\u001b[0m\u001b[0;34m.\u001b[0m\u001b[0m_g_manager\u001b[0m \u001b[0;34m=\u001b[0m \u001b[0mg\u001b[0m\u001b[0;34m.\u001b[0m\u001b[0mas_default\u001b[0m\u001b[0;34m(\u001b[0m\u001b[0;34m)\u001b[0m\u001b[0;34m\u001b[0m\u001b[0;34m\u001b[0m\u001b[0m\n\u001b[1;32m   6510\u001b[0m       \u001b[0mself\u001b[0m\u001b[0;34m.\u001b[0m\u001b[0m_g_manager\u001b[0m\u001b[0;34m.\u001b[0m\u001b[0m__enter__\u001b[0m\u001b[0;34m(\u001b[0m\u001b[0;34m)\u001b[0m\u001b[0;34m\u001b[0m\u001b[0;34m\u001b[0m\u001b[0m\n",
            "\u001b[0;32m/usr/local/lib/python3.6/dist-packages/tensorflow/python/framework/ops.py\u001b[0m in \u001b[0;36m_get_graph_from_inputs\u001b[0;34m(op_input_list, graph)\u001b[0m\n\u001b[1;32m   6133\u001b[0m         \u001b[0mgraph\u001b[0m \u001b[0;34m=\u001b[0m \u001b[0mgraph_element\u001b[0m\u001b[0;34m.\u001b[0m\u001b[0mgraph\u001b[0m\u001b[0;34m\u001b[0m\u001b[0;34m\u001b[0m\u001b[0m\n\u001b[1;32m   6134\u001b[0m       \u001b[0;32melif\u001b[0m \u001b[0moriginal_graph_element\u001b[0m \u001b[0;32mis\u001b[0m \u001b[0;32mnot\u001b[0m \u001b[0;32mNone\u001b[0m\u001b[0;34m:\u001b[0m\u001b[0;34m\u001b[0m\u001b[0;34m\u001b[0m\u001b[0m\n\u001b[0;32m-> 6135\u001b[0;31m         \u001b[0m_assert_same_graph\u001b[0m\u001b[0;34m(\u001b[0m\u001b[0moriginal_graph_element\u001b[0m\u001b[0;34m,\u001b[0m \u001b[0mgraph_element\u001b[0m\u001b[0;34m)\u001b[0m\u001b[0;34m\u001b[0m\u001b[0;34m\u001b[0m\u001b[0m\n\u001b[0m\u001b[1;32m   6136\u001b[0m       \u001b[0;32melif\u001b[0m \u001b[0mgraph_element\u001b[0m\u001b[0;34m.\u001b[0m\u001b[0mgraph\u001b[0m \u001b[0;32mis\u001b[0m \u001b[0;32mnot\u001b[0m \u001b[0mgraph\u001b[0m\u001b[0;34m:\u001b[0m\u001b[0;34m\u001b[0m\u001b[0;34m\u001b[0m\u001b[0m\n\u001b[1;32m   6137\u001b[0m         \u001b[0;32mraise\u001b[0m \u001b[0mValueError\u001b[0m\u001b[0;34m(\u001b[0m\u001b[0;34m\"%s is not from the passed-in graph.\"\u001b[0m \u001b[0;34m%\u001b[0m \u001b[0mgraph_element\u001b[0m\u001b[0;34m)\u001b[0m\u001b[0;34m\u001b[0m\u001b[0;34m\u001b[0m\u001b[0m\n",
            "\u001b[0;32m/usr/local/lib/python3.6/dist-packages/tensorflow/python/framework/ops.py\u001b[0m in \u001b[0;36m_assert_same_graph\u001b[0;34m(original_item, item)\u001b[0m\n\u001b[1;32m   6069\u001b[0m   \u001b[0;32mif\u001b[0m \u001b[0moriginal_item\u001b[0m\u001b[0;34m.\u001b[0m\u001b[0mgraph\u001b[0m \u001b[0;32mis\u001b[0m \u001b[0;32mnot\u001b[0m \u001b[0mitem\u001b[0m\u001b[0;34m.\u001b[0m\u001b[0mgraph\u001b[0m\u001b[0;34m:\u001b[0m\u001b[0;34m\u001b[0m\u001b[0;34m\u001b[0m\u001b[0m\n\u001b[1;32m   6070\u001b[0m     raise ValueError(\"%s must be from the same graph as %s.\" %\n\u001b[0;32m-> 6071\u001b[0;31m                      (item, original_item))\n\u001b[0m\u001b[1;32m   6072\u001b[0m \u001b[0;34m\u001b[0m\u001b[0m\n\u001b[1;32m   6073\u001b[0m \u001b[0;34m\u001b[0m\u001b[0m\n",
            "\u001b[0;31mValueError\u001b[0m: Tensor(\"loss_1/dense_4_loss/Const:0\", shape=(), dtype=float32) must be from the same graph as Tensor(\"dense_4/Softmax:0\", shape=(?, 2), dtype=float32)."
          ]
        }
      ]
    },
    {
      "cell_type": "code",
      "metadata": {
        "id": "aBGRBv7MzuzL",
        "colab_type": "code",
        "colab": {}
      },
      "source": [
        ""
      ],
      "execution_count": 0,
      "outputs": []
    }
  ]
}